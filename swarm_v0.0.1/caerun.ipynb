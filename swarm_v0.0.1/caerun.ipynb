{
 "cells": [
  {
   "cell_type": "code",
   "execution_count": 1,
   "metadata": {},
   "outputs": [
    {
     "name": "stderr",
     "output_type": "stream",
     "text": [
      "2023-01-03 02:40:17.176050: I tensorflow/core/platform/cpu_feature_guard.cc:193] This TensorFlow binary is optimized with oneAPI Deep Neural Network Library (oneDNN) to use the following CPU instructions in performance-critical operations:  AVX2 AVX512F AVX512_VNNI AVX512_BF16 FMA\n",
      "To enable them in other operations, rebuild TensorFlow with the appropriate compiler flags.\n",
      "2023-01-03 02:40:17.251577: I tensorflow/core/util/port.cc:104] oneDNN custom operations are on. You may see slightly different numerical results due to floating-point round-off errors from different computation orders. To turn them off, set the environment variable `TF_ENABLE_ONEDNN_OPTS=0`.\n",
      "2023-01-03 02:40:17.568733: W tensorflow/compiler/xla/stream_executor/platform/default/dso_loader.cc:64] Could not load dynamic library 'libnvinfer.so.7'; dlerror: libnvinfer.so.7: cannot open shared object file: No such file or directory\n",
      "2023-01-03 02:40:17.568763: W tensorflow/compiler/xla/stream_executor/platform/default/dso_loader.cc:64] Could not load dynamic library 'libnvinfer_plugin.so.7'; dlerror: libnvinfer_plugin.so.7: cannot open shared object file: No such file or directory\n",
      "2023-01-03 02:40:17.568766: W tensorflow/compiler/tf2tensorrt/utils/py_utils.cc:38] TF-TRT Warning: Cannot dlopen some TensorRT libraries. If you would like to use Nvidia GPU with TensorRT, please make sure the missing libraries mentioned above are installed properly.\n",
      "Failed to detect the name of this notebook, you can set it manually with the WANDB_NOTEBOOK_NAME environment variable to enable code saving.\n",
      "\u001b[34m\u001b[1mwandb\u001b[0m: Currently logged in as: \u001b[33moscarscholin\u001b[0m. Use \u001b[1m`wandb login --relogin`\u001b[0m to force relogin\n"
     ]
    },
    {
     "data": {
      "text/html": [
       "Tracking run with wandb version 0.13.7"
      ],
      "text/plain": [
       "<IPython.core.display.HTML object>"
      ]
     },
     "metadata": {},
     "output_type": "display_data"
    },
    {
     "data": {
      "text/html": [
       "Run data is saved locally in <code>/home/oscar47/Desktop/physics/Physics-Sim-ML/swarm_v0.0.1/wandb/run-20230103_024101-t0m77mky</code>"
      ],
      "text/plain": [
       "<IPython.core.display.HTML object>"
      ]
     },
     "metadata": {},
     "output_type": "display_data"
    },
    {
     "data": {
      "text/html": [
       "Syncing run <strong><a href=\"https://wandb.ai/oscarscholin/PHLUID-SwarmCAE2/runs/t0m77mky\" target=\"_blank\">true-darkness-4</a></strong> to <a href=\"https://wandb.ai/oscarscholin/PHLUID-SwarmCAE2\" target=\"_blank\">Weights & Biases</a> (<a href=\"https://wandb.me/run\" target=\"_blank\">docs</a>)<br/>"
      ],
      "text/plain": [
       "<IPython.core.display.HTML object>"
      ]
     },
     "metadata": {},
     "output_type": "display_data"
    },
    {
     "name": "stderr",
     "output_type": "stream",
     "text": [
      "\u001b[34m\u001b[1mwandb\u001b[0m: \u001b[33mWARNING\u001b[0m Malformed sweep config detected! This may cause your sweep to behave in unexpected ways.\n",
      "\u001b[34m\u001b[1mwandb\u001b[0m: \u001b[33mWARNING\u001b[0m To avoid this, please fix the sweep config schema violations below:\n",
      "\u001b[34m\u001b[1mwandb\u001b[0m: \u001b[33mWARNING\u001b[0m   Violation 1. Additional properties are not allowed ('goal' was unexpected)\n",
      "\u001b[34m\u001b[1mwandb\u001b[0m: \u001b[33mWARNING\u001b[0m   Violation 2. 'val_accuracy' is not of type 'object'\n",
      "\u001b[34m\u001b[1mwandb\u001b[0m: \u001b[33mWARNING\u001b[0m Calling wandb.login() after wandb.init() has no effect.\n"
     ]
    },
    {
     "name": "stdout",
     "output_type": "stream",
     "text": [
      "Create sweep with ID: kgt5cdfq\n",
      "Sweep URL: https://wandb.ai/oscarscholin/PHLUID-SwarmCAE2/sweeps/kgt5cdfq\n"
     ]
    },
    {
     "name": "stderr",
     "output_type": "stream",
     "text": [
      "wandb: Waiting for W&B process to finish... (success).\n",
      "wandb: Synced true-darkness-4: https://wandb.ai/oscarscholin/PHLUID-SwarmCAE2/runs/t0m77mky\n",
      "wandb: Synced 6 W&B file(s), 0 media file(s), 0 artifact file(s) and 0 other file(s)\n",
      "wandb: Find logs at: ./wandb/run-20230103_024101-t0m77mky/logs\n",
      "\u001b[34m\u001b[1mwandb\u001b[0m: Agent Starting Run: mdua0hxu with config:\n",
      "\u001b[34m\u001b[1mwandb\u001b[0m: \tbatch_size: 32\n",
      "\u001b[34m\u001b[1mwandb\u001b[0m: \tconv2d1_size: 73\n",
      "\u001b[34m\u001b[1mwandb\u001b[0m: \tconv2d2_size: 136\n",
      "\u001b[34m\u001b[1mwandb\u001b[0m: \tconv2d3_size: 103\n",
      "\u001b[34m\u001b[1mwandb\u001b[0m: \tconvtrans1_size: 70\n",
      "\u001b[34m\u001b[1mwandb\u001b[0m: \tconvtrans2_size: 226\n",
      "\u001b[34m\u001b[1mwandb\u001b[0m: \tconvtrans3_size: 227\n",
      "\u001b[34m\u001b[1mwandb\u001b[0m: \tepochs: 17\n",
      "\u001b[34m\u001b[1mwandb\u001b[0m: \tlearning_rate: 0.08099282288203502\n"
     ]
    },
    {
     "data": {
      "text/html": [
       "Tracking run with wandb version 0.13.7"
      ],
      "text/plain": [
       "<IPython.core.display.HTML object>"
      ]
     },
     "metadata": {},
     "output_type": "display_data"
    },
    {
     "data": {
      "text/html": [
       "Run data is saved locally in <code>/home/oscar47/Desktop/physics/Physics-Sim-ML/swarm_v0.0.1/wandb/run-20230103_024114-mdua0hxu</code>"
      ],
      "text/plain": [
       "<IPython.core.display.HTML object>"
      ]
     },
     "metadata": {},
     "output_type": "display_data"
    },
    {
     "data": {
      "text/html": [
       "Syncing run <strong><a href=\"https://wandb.ai/oscarscholin/PHLUID-SwarmCAE2/runs/mdua0hxu\" target=\"_blank\">dutiful-sweep-1</a></strong> to <a href=\"https://wandb.ai/oscarscholin/PHLUID-SwarmCAE2\" target=\"_blank\">Weights & Biases</a> (<a href=\"https://wandb.me/run\" target=\"_blank\">docs</a>)<br/>Sweep page:  <a href=\"https://wandb.ai/oscarscholin/PHLUID-SwarmCAE2/sweeps/kgt5cdfq\" target=\"_blank\">https://wandb.ai/oscarscholin/PHLUID-SwarmCAE2/sweeps/kgt5cdfq</a>"
      ],
      "text/plain": [
       "<IPython.core.display.HTML object>"
      ]
     },
     "metadata": {},
     "output_type": "display_data"
    },
    {
     "name": "stdout",
     "output_type": "stream",
     "text": [
      "Model: \"sequential\"\n",
      "_________________________________________________________________\n",
      " Layer (type)                Output Shape              Param #   \n",
      "=================================================================\n",
      " conv2d (Conv2D)             (None, 104, 104, 73)      2044      \n",
      "                                                                 \n",
      " max_pooling2d (MaxPooling2D  (None, 52, 52, 73)       0         \n",
      " )                                                               \n",
      "                                                                 \n",
      " conv2d_1 (Conv2D)           (None, 52, 52, 136)       89488     \n",
      "                                                                 \n",
      " max_pooling2d_1 (MaxPooling  (None, 26, 26, 136)      0         \n",
      " 2D)                                                             \n",
      "                                                                 \n",
      " conv2d_2 (Conv2D)           (None, 26, 26, 103)       126175    \n",
      "                                                                 \n",
      " FV (MaxPooling2D)           (None, 13, 13, 103)       0         \n",
      "                                                                 \n",
      " conv2d_transpose (Conv2DTra  (None, 13, 13, 70)       64960     \n",
      " nspose)                                                         \n",
      "                                                                 \n",
      " up_sampling2d (UpSampling2D  (None, 26, 26, 70)       0         \n",
      " )                                                               \n",
      "                                                                 \n",
      " conv2d_transpose_1 (Conv2DT  (None, 26, 26, 226)      142606    \n",
      " ranspose)                                                       \n",
      "                                                                 \n",
      " up_sampling2d_1 (UpSampling  (None, 52, 52, 226)      0         \n",
      " 2D)                                                             \n",
      "                                                                 \n",
      " conv2d_transpose_2 (Conv2DT  (None, 52, 52, 70)       142450    \n",
      " ranspose)                                                       \n",
      "                                                                 \n",
      " up_sampling2d_2 (UpSampling  (None, 104, 104, 70)     0         \n",
      " 2D)                                                             \n",
      "                                                                 \n",
      " OUT (Conv2D)                (None, 104, 104, 3)       1893      \n",
      "                                                                 \n",
      "=================================================================\n",
      "Total params: 569,616\n",
      "Trainable params: 569,616\n",
      "Non-trainable params: 0\n",
      "_________________________________________________________________\n"
     ]
    },
    {
     "name": "stderr",
     "output_type": "stream",
     "text": [
      "2023-01-03 02:41:17.488042: I tensorflow/compiler/xla/stream_executor/cuda/cuda_gpu_executor.cc:981] successful NUMA node read from SysFS had negative value (-1), but there must be at least one NUMA node, so returning NUMA node zero\n",
      "2023-01-03 02:41:17.524371: W tensorflow/compiler/xla/stream_executor/platform/default/dso_loader.cc:64] Could not load dynamic library 'libcudnn.so.8'; dlerror: libcudnn.so.8: cannot open shared object file: No such file or directory; LD_LIBRARY_PATH: /home/oscar47/miniconda3/envs/tf2/lib/python3.9/site-packages/cv2/../../lib64:\n",
      "2023-01-03 02:41:17.524392: W tensorflow/core/common_runtime/gpu/gpu_device.cc:1934] Cannot dlopen some GPU libraries. Please make sure the missing libraries mentioned above are installed properly if you would like to use GPU. Follow the guide at https://www.tensorflow.org/install/gpu for how to download and setup the required libraries for your platform.\n",
      "Skipping registering GPU devices...\n",
      "2023-01-03 02:41:17.524783: I tensorflow/core/platform/cpu_feature_guard.cc:193] This TensorFlow binary is optimized with oneAPI Deep Neural Network Library (oneDNN) to use the following CPU instructions in performance-critical operations:  AVX2 AVX512F AVX512_VNNI AVX512_BF16 FMA\n",
      "To enable them in other operations, rebuild TensorFlow with the appropriate compiler flags.\n",
      "\u001b[34m\u001b[1mwandb\u001b[0m: \u001b[33mWARNING\u001b[0m The save_model argument by default saves the model in the HDF5 format that cannot save custom objects like subclassed models and custom layers. This behavior will be deprecated in a future release in favor of the SavedModel format. Meanwhile, the HDF5 model is saved as W&B files and the SavedModel as W&B Artifacts.\n"
     ]
    },
    {
     "name": "stdout",
     "output_type": "stream",
     "text": [
      "Epoch 1/17\n",
      "2784/2784 [==============================] - ETA: 0s - loss: 30970231128064.0000"
     ]
    },
    {
     "name": "stderr",
     "output_type": "stream",
     "text": [
      "WARNING:absl:Found untraced functions such as _jit_compiled_convolution_op, _jit_compiled_convolution_op, _jit_compiled_convolution_op, _jit_compiled_convolution_op, _jit_compiled_convolution_op while saving (showing 5 of 7). These functions will not be directly callable after loading.\n"
     ]
    },
    {
     "name": "stdout",
     "output_type": "stream",
     "text": [
      "INFO:tensorflow:Assets written to: /home/oscar47/Desktop/physics/Physics-Sim-ML/swarm_v0.0.1/wandb/run-20230103_024114-mdua0hxu/files/model-best/assets\n"
     ]
    },
    {
     "name": "stderr",
     "output_type": "stream",
     "text": [
      "INFO:tensorflow:Assets written to: /home/oscar47/Desktop/physics/Physics-Sim-ML/swarm_v0.0.1/wandb/run-20230103_024114-mdua0hxu/files/model-best/assets\n",
      "\u001b[34m\u001b[1mwandb\u001b[0m: Adding directory to artifact (/home/oscar47/Desktop/physics/Physics-Sim-ML/swarm_v0.0.1/wandb/run-20230103_024114-mdua0hxu/files/model-best)... Done. 0.0s\n"
     ]
    },
    {
     "name": "stdout",
     "output_type": "stream",
     "text": [
      "2784/2784 [==============================] - 565s 203ms/step - loss: 30970231128064.0000 - val_loss: 0.3678\n",
      "Epoch 2/17\n",
      "2784/2784 [==============================] - ETA: 0s - loss: 0.3678"
     ]
    },
    {
     "name": "stderr",
     "output_type": "stream",
     "text": [
      "WARNING:absl:Found untraced functions such as _jit_compiled_convolution_op, _jit_compiled_convolution_op, _jit_compiled_convolution_op, _jit_compiled_convolution_op, _jit_compiled_convolution_op while saving (showing 5 of 7). These functions will not be directly callable after loading.\n"
     ]
    },
    {
     "name": "stdout",
     "output_type": "stream",
     "text": [
      "INFO:tensorflow:Assets written to: /home/oscar47/Desktop/physics/Physics-Sim-ML/swarm_v0.0.1/wandb/run-20230103_024114-mdua0hxu/files/model-best/assets\n"
     ]
    },
    {
     "name": "stderr",
     "output_type": "stream",
     "text": [
      "INFO:tensorflow:Assets written to: /home/oscar47/Desktop/physics/Physics-Sim-ML/swarm_v0.0.1/wandb/run-20230103_024114-mdua0hxu/files/model-best/assets\n",
      "\u001b[34m\u001b[1mwandb\u001b[0m: Adding directory to artifact (/home/oscar47/Desktop/physics/Physics-Sim-ML/swarm_v0.0.1/wandb/run-20230103_024114-mdua0hxu/files/model-best)... Done. 0.0s\n"
     ]
    },
    {
     "name": "stdout",
     "output_type": "stream",
     "text": [
      "2784/2784 [==============================] - 564s 203ms/step - loss: 0.3678 - val_loss: 0.3677\n",
      "Epoch 3/17\n",
      "2784/2784 [==============================] - ETA: 0s - loss: 0.3675"
     ]
    },
    {
     "name": "stderr",
     "output_type": "stream",
     "text": [
      "WARNING:absl:Found untraced functions such as _jit_compiled_convolution_op, _jit_compiled_convolution_op, _jit_compiled_convolution_op, _jit_compiled_convolution_op, _jit_compiled_convolution_op while saving (showing 5 of 7). These functions will not be directly callable after loading.\n"
     ]
    },
    {
     "name": "stdout",
     "output_type": "stream",
     "text": [
      "INFO:tensorflow:Assets written to: /home/oscar47/Desktop/physics/Physics-Sim-ML/swarm_v0.0.1/wandb/run-20230103_024114-mdua0hxu/files/model-best/assets\n"
     ]
    },
    {
     "name": "stderr",
     "output_type": "stream",
     "text": [
      "INFO:tensorflow:Assets written to: /home/oscar47/Desktop/physics/Physics-Sim-ML/swarm_v0.0.1/wandb/run-20230103_024114-mdua0hxu/files/model-best/assets\n",
      "\u001b[34m\u001b[1mwandb\u001b[0m: Adding directory to artifact (/home/oscar47/Desktop/physics/Physics-Sim-ML/swarm_v0.0.1/wandb/run-20230103_024114-mdua0hxu/files/model-best)... Done. 0.0s\n"
     ]
    },
    {
     "name": "stdout",
     "output_type": "stream",
     "text": [
      "2784/2784 [==============================] - 562s 202ms/step - loss: 0.3675 - val_loss: 0.3671\n",
      "Epoch 4/17\n",
      "2784/2784 [==============================] - ETA: 0s - loss: 0.3661"
     ]
    },
    {
     "name": "stderr",
     "output_type": "stream",
     "text": [
      "WARNING:absl:Found untraced functions such as _jit_compiled_convolution_op, _jit_compiled_convolution_op, _jit_compiled_convolution_op, _jit_compiled_convolution_op, _jit_compiled_convolution_op while saving (showing 5 of 7). These functions will not be directly callable after loading.\n"
     ]
    },
    {
     "name": "stdout",
     "output_type": "stream",
     "text": [
      "INFO:tensorflow:Assets written to: /home/oscar47/Desktop/physics/Physics-Sim-ML/swarm_v0.0.1/wandb/run-20230103_024114-mdua0hxu/files/model-best/assets\n"
     ]
    },
    {
     "name": "stderr",
     "output_type": "stream",
     "text": [
      "INFO:tensorflow:Assets written to: /home/oscar47/Desktop/physics/Physics-Sim-ML/swarm_v0.0.1/wandb/run-20230103_024114-mdua0hxu/files/model-best/assets\n",
      "\u001b[34m\u001b[1mwandb\u001b[0m: Adding directory to artifact (/home/oscar47/Desktop/physics/Physics-Sim-ML/swarm_v0.0.1/wandb/run-20230103_024114-mdua0hxu/files/model-best)... Done. 0.0s\n"
     ]
    },
    {
     "name": "stdout",
     "output_type": "stream",
     "text": [
      "2784/2784 [==============================] - 560s 201ms/step - loss: 0.3661 - val_loss: 0.3646\n",
      "Epoch 5/17\n",
      "2784/2784 [==============================] - ETA: 0s - loss: 0.3608"
     ]
    },
    {
     "name": "stderr",
     "output_type": "stream",
     "text": [
      "WARNING:absl:Found untraced functions such as _jit_compiled_convolution_op, _jit_compiled_convolution_op, _jit_compiled_convolution_op, _jit_compiled_convolution_op, _jit_compiled_convolution_op while saving (showing 5 of 7). These functions will not be directly callable after loading.\n"
     ]
    },
    {
     "name": "stdout",
     "output_type": "stream",
     "text": [
      "INFO:tensorflow:Assets written to: /home/oscar47/Desktop/physics/Physics-Sim-ML/swarm_v0.0.1/wandb/run-20230103_024114-mdua0hxu/files/model-best/assets\n"
     ]
    },
    {
     "name": "stderr",
     "output_type": "stream",
     "text": [
      "INFO:tensorflow:Assets written to: /home/oscar47/Desktop/physics/Physics-Sim-ML/swarm_v0.0.1/wandb/run-20230103_024114-mdua0hxu/files/model-best/assets\n",
      "\u001b[34m\u001b[1mwandb\u001b[0m: Adding directory to artifact (/home/oscar47/Desktop/physics/Physics-Sim-ML/swarm_v0.0.1/wandb/run-20230103_024114-mdua0hxu/files/model-best)... Done. 0.0s\n"
     ]
    },
    {
     "name": "stdout",
     "output_type": "stream",
     "text": [
      "2784/2784 [==============================] - 560s 201ms/step - loss: 0.3608 - val_loss: 0.3548\n",
      "Epoch 6/17\n",
      "2784/2784 [==============================] - ETA: 0s - loss: 0.3402"
     ]
    },
    {
     "name": "stderr",
     "output_type": "stream",
     "text": [
      "WARNING:absl:Found untraced functions such as _jit_compiled_convolution_op, _jit_compiled_convolution_op, _jit_compiled_convolution_op, _jit_compiled_convolution_op, _jit_compiled_convolution_op while saving (showing 5 of 7). These functions will not be directly callable after loading.\n"
     ]
    },
    {
     "name": "stdout",
     "output_type": "stream",
     "text": [
      "INFO:tensorflow:Assets written to: /home/oscar47/Desktop/physics/Physics-Sim-ML/swarm_v0.0.1/wandb/run-20230103_024114-mdua0hxu/files/model-best/assets\n"
     ]
    },
    {
     "name": "stderr",
     "output_type": "stream",
     "text": [
      "INFO:tensorflow:Assets written to: /home/oscar47/Desktop/physics/Physics-Sim-ML/swarm_v0.0.1/wandb/run-20230103_024114-mdua0hxu/files/model-best/assets\n",
      "\u001b[34m\u001b[1mwandb\u001b[0m: Adding directory to artifact (/home/oscar47/Desktop/physics/Physics-Sim-ML/swarm_v0.0.1/wandb/run-20230103_024114-mdua0hxu/files/model-best)... Done. 0.0s\n"
     ]
    },
    {
     "name": "stdout",
     "output_type": "stream",
     "text": [
      "2784/2784 [==============================] - 560s 201ms/step - loss: 0.3402 - val_loss: 0.3181\n",
      "Epoch 7/17\n",
      "2784/2784 [==============================] - ETA: 0s - loss: 0.2712"
     ]
    },
    {
     "name": "stderr",
     "output_type": "stream",
     "text": [
      "WARNING:absl:Found untraced functions such as _jit_compiled_convolution_op, _jit_compiled_convolution_op, _jit_compiled_convolution_op, _jit_compiled_convolution_op, _jit_compiled_convolution_op while saving (showing 5 of 7). These functions will not be directly callable after loading.\n"
     ]
    },
    {
     "name": "stdout",
     "output_type": "stream",
     "text": [
      "INFO:tensorflow:Assets written to: /home/oscar47/Desktop/physics/Physics-Sim-ML/swarm_v0.0.1/wandb/run-20230103_024114-mdua0hxu/files/model-best/assets\n"
     ]
    },
    {
     "name": "stderr",
     "output_type": "stream",
     "text": [
      "INFO:tensorflow:Assets written to: /home/oscar47/Desktop/physics/Physics-Sim-ML/swarm_v0.0.1/wandb/run-20230103_024114-mdua0hxu/files/model-best/assets\n",
      "\u001b[34m\u001b[1mwandb\u001b[0m: Adding directory to artifact (/home/oscar47/Desktop/physics/Physics-Sim-ML/swarm_v0.0.1/wandb/run-20230103_024114-mdua0hxu/files/model-best)... Done. 0.0s\n"
     ]
    },
    {
     "name": "stdout",
     "output_type": "stream",
     "text": [
      "2784/2784 [==============================] - 560s 201ms/step - loss: 0.2712 - val_loss: 0.2080\n",
      "Epoch 8/17\n",
      "2784/2784 [==============================] - ETA: 0s - loss: 0.1269"
     ]
    },
    {
     "name": "stderr",
     "output_type": "stream",
     "text": [
      "WARNING:absl:Found untraced functions such as _jit_compiled_convolution_op, _jit_compiled_convolution_op, _jit_compiled_convolution_op, _jit_compiled_convolution_op, _jit_compiled_convolution_op while saving (showing 5 of 7). These functions will not be directly callable after loading.\n"
     ]
    },
    {
     "name": "stdout",
     "output_type": "stream",
     "text": [
      "INFO:tensorflow:Assets written to: /home/oscar47/Desktop/physics/Physics-Sim-ML/swarm_v0.0.1/wandb/run-20230103_024114-mdua0hxu/files/model-best/assets\n"
     ]
    },
    {
     "name": "stderr",
     "output_type": "stream",
     "text": [
      "INFO:tensorflow:Assets written to: /home/oscar47/Desktop/physics/Physics-Sim-ML/swarm_v0.0.1/wandb/run-20230103_024114-mdua0hxu/files/model-best/assets\n",
      "\u001b[34m\u001b[1mwandb\u001b[0m: Adding directory to artifact (/home/oscar47/Desktop/physics/Physics-Sim-ML/swarm_v0.0.1/wandb/run-20230103_024114-mdua0hxu/files/model-best)... Done. 0.0s\n"
     ]
    },
    {
     "name": "stdout",
     "output_type": "stream",
     "text": [
      "2784/2784 [==============================] - 559s 201ms/step - loss: 0.1269 - val_loss: 0.0572\n",
      "Epoch 9/17\n",
      "2784/2784 [==============================] - ETA: 0s - loss: 0.0379"
     ]
    },
    {
     "name": "stderr",
     "output_type": "stream",
     "text": [
      "WARNING:absl:Found untraced functions such as _jit_compiled_convolution_op, _jit_compiled_convolution_op, _jit_compiled_convolution_op, _jit_compiled_convolution_op, _jit_compiled_convolution_op while saving (showing 5 of 7). These functions will not be directly callable after loading.\n"
     ]
    },
    {
     "name": "stdout",
     "output_type": "stream",
     "text": [
      "INFO:tensorflow:Assets written to: /home/oscar47/Desktop/physics/Physics-Sim-ML/swarm_v0.0.1/wandb/run-20230103_024114-mdua0hxu/files/model-best/assets\n"
     ]
    },
    {
     "name": "stderr",
     "output_type": "stream",
     "text": [
      "INFO:tensorflow:Assets written to: /home/oscar47/Desktop/physics/Physics-Sim-ML/swarm_v0.0.1/wandb/run-20230103_024114-mdua0hxu/files/model-best/assets\n",
      "\u001b[34m\u001b[1mwandb\u001b[0m: Adding directory to artifact (/home/oscar47/Desktop/physics/Physics-Sim-ML/swarm_v0.0.1/wandb/run-20230103_024114-mdua0hxu/files/model-best)... Done. 0.0s\n"
     ]
    },
    {
     "name": "stdout",
     "output_type": "stream",
     "text": [
      "2784/2784 [==============================] - 560s 201ms/step - loss: 0.0379 - val_loss: 0.0327\n",
      "Epoch 10/17\n",
      "2784/2784 [==============================] - ETA: 0s - loss: 0.0327"
     ]
    },
    {
     "name": "stderr",
     "output_type": "stream",
     "text": [
      "WARNING:absl:Found untraced functions such as _jit_compiled_convolution_op, _jit_compiled_convolution_op, _jit_compiled_convolution_op, _jit_compiled_convolution_op, _jit_compiled_convolution_op while saving (showing 5 of 7). These functions will not be directly callable after loading.\n"
     ]
    },
    {
     "name": "stdout",
     "output_type": "stream",
     "text": [
      "INFO:tensorflow:Assets written to: /home/oscar47/Desktop/physics/Physics-Sim-ML/swarm_v0.0.1/wandb/run-20230103_024114-mdua0hxu/files/model-best/assets\n"
     ]
    },
    {
     "name": "stderr",
     "output_type": "stream",
     "text": [
      "INFO:tensorflow:Assets written to: /home/oscar47/Desktop/physics/Physics-Sim-ML/swarm_v0.0.1/wandb/run-20230103_024114-mdua0hxu/files/model-best/assets\n",
      "\u001b[34m\u001b[1mwandb\u001b[0m: Adding directory to artifact (/home/oscar47/Desktop/physics/Physics-Sim-ML/swarm_v0.0.1/wandb/run-20230103_024114-mdua0hxu/files/model-best)... Done. 0.0s\n"
     ]
    },
    {
     "name": "stdout",
     "output_type": "stream",
     "text": [
      "2784/2784 [==============================] - 559s 201ms/step - loss: 0.0327 - val_loss: 0.0327\n",
      "Epoch 11/17\n",
      "2784/2784 [==============================] - 559s 201ms/step - loss: 0.0327 - val_loss: 0.0327\n",
      "Epoch 12/17\n",
      "2784/2784 [==============================] - 560s 201ms/step - loss: 0.0327 - val_loss: 0.0327\n",
      "Epoch 13/17\n",
      "2784/2784 [==============================] - 560s 201ms/step - loss: 0.0327 - val_loss: 0.0327\n",
      "Epoch 14/17\n",
      "2784/2784 [==============================] - 559s 201ms/step - loss: 0.0328 - val_loss: 0.0327\n",
      "Epoch 15/17\n",
      "2784/2784 [==============================] - 559s 201ms/step - loss: 0.0328 - val_loss: 0.0328\n",
      "Epoch 16/17\n",
      "2784/2784 [==============================] - 559s 201ms/step - loss: 0.0328 - val_loss: 0.0329\n",
      "Epoch 17/17\n",
      "2784/2784 [==============================] - 560s 201ms/step - loss: 0.0328 - val_loss: 0.0329\n"
     ]
    },
    {
     "data": {
      "text/html": [
       "Waiting for W&B process to finish... <strong style=\"color:green\">(success).</strong>"
      ],
      "text/plain": [
       "<IPython.core.display.HTML object>"
      ]
     },
     "metadata": {},
     "output_type": "display_data"
    },
    {
     "data": {
      "text/html": [
       "<style>\n",
       "    table.wandb td:nth-child(1) { padding: 0 10px; text-align: left ; width: auto;} td:nth-child(2) {text-align: left ; width: 100%}\n",
       "    .wandb-row { display: flex; flex-direction: row; flex-wrap: wrap; justify-content: flex-start; width: 100% }\n",
       "    .wandb-col { display: flex; flex-direction: column; flex-basis: 100%; flex: 1; padding: 10px; }\n",
       "    </style>\n",
       "<div class=\"wandb-row\"><div class=\"wandb-col\"><h3>Run history:</h3><br/><table class=\"wandb\"><tr><td>epoch</td><td>▁▁▂▂▃▃▄▄▅▅▅▆▆▇▇██</td></tr><tr><td>loss</td><td>█▁▁▁▁▁▁▁▁▁▁▁▁▁▁▁▁</td></tr><tr><td>val_loss</td><td>█████▇▅▂▁▁▁▁▁▁▁▁▁</td></tr></table><br/></div><div class=\"wandb-col\"><h3>Run summary:</h3><br/><table class=\"wandb\"><tr><td>best_epoch</td><td>9</td></tr><tr><td>best_val_loss</td><td>0.03274</td></tr><tr><td>epoch</td><td>16</td></tr><tr><td>loss</td><td>0.03279</td></tr><tr><td>val_loss</td><td>0.03287</td></tr></table><br/></div></div>"
      ],
      "text/plain": [
       "<IPython.core.display.HTML object>"
      ]
     },
     "metadata": {},
     "output_type": "display_data"
    },
    {
     "data": {
      "text/html": [
       "Synced <strong style=\"color:#cdcd00\">dutiful-sweep-1</strong>: <a href=\"https://wandb.ai/oscarscholin/PHLUID-SwarmCAE2/runs/mdua0hxu\" target=\"_blank\">https://wandb.ai/oscarscholin/PHLUID-SwarmCAE2/runs/mdua0hxu</a><br/>Synced 6 W&B file(s), 1 media file(s), 41 artifact file(s) and 1 other file(s)"
      ],
      "text/plain": [
       "<IPython.core.display.HTML object>"
      ]
     },
     "metadata": {},
     "output_type": "display_data"
    },
    {
     "data": {
      "text/html": [
       "Find logs at: <code>./wandb/run-20230103_024114-mdua0hxu/logs</code>"
      ],
      "text/plain": [
       "<IPython.core.display.HTML object>"
      ]
     },
     "metadata": {},
     "output_type": "display_data"
    },
    {
     "name": "stderr",
     "output_type": "stream",
     "text": [
      "\u001b[34m\u001b[1mwandb\u001b[0m: Agent Starting Run: eqkrbvu5 with config:\n",
      "\u001b[34m\u001b[1mwandb\u001b[0m: \tbatch_size: 160\n",
      "\u001b[34m\u001b[1mwandb\u001b[0m: \tconv2d1_size: 159\n",
      "\u001b[34m\u001b[1mwandb\u001b[0m: \tconv2d2_size: 104\n",
      "\u001b[34m\u001b[1mwandb\u001b[0m: \tconv2d3_size: 231\n",
      "\u001b[34m\u001b[1mwandb\u001b[0m: \tconvtrans1_size: 146\n",
      "\u001b[34m\u001b[1mwandb\u001b[0m: \tconvtrans2_size: 256\n",
      "\u001b[34m\u001b[1mwandb\u001b[0m: \tconvtrans3_size: 143\n",
      "\u001b[34m\u001b[1mwandb\u001b[0m: \tepochs: 19\n",
      "\u001b[34m\u001b[1mwandb\u001b[0m: \tlearning_rate: 0.04956297448380375\n"
     ]
    },
    {
     "data": {
      "text/html": [
       "Tracking run with wandb version 0.13.7"
      ],
      "text/plain": [
       "<IPython.core.display.HTML object>"
      ]
     },
     "metadata": {},
     "output_type": "display_data"
    },
    {
     "data": {
      "text/html": [
       "Run data is saved locally in <code>/home/oscar47/Desktop/physics/Physics-Sim-ML/swarm_v0.0.1/wandb/run-20230103_052024-eqkrbvu5</code>"
      ],
      "text/plain": [
       "<IPython.core.display.HTML object>"
      ]
     },
     "metadata": {},
     "output_type": "display_data"
    },
    {
     "data": {
      "text/html": [
       "Syncing run <strong><a href=\"https://wandb.ai/oscarscholin/PHLUID-SwarmCAE2/runs/eqkrbvu5\" target=\"_blank\">clear-sweep-2</a></strong> to <a href=\"https://wandb.ai/oscarscholin/PHLUID-SwarmCAE2\" target=\"_blank\">Weights & Biases</a> (<a href=\"https://wandb.me/run\" target=\"_blank\">docs</a>)<br/>Sweep page:  <a href=\"https://wandb.ai/oscarscholin/PHLUID-SwarmCAE2/sweeps/kgt5cdfq\" target=\"_blank\">https://wandb.ai/oscarscholin/PHLUID-SwarmCAE2/sweeps/kgt5cdfq</a>"
      ],
      "text/plain": [
       "<IPython.core.display.HTML object>"
      ]
     },
     "metadata": {},
     "output_type": "display_data"
    },
    {
     "name": "stdout",
     "output_type": "stream",
     "text": [
      "Model: \"sequential\"\n",
      "_________________________________________________________________\n",
      " Layer (type)                Output Shape              Param #   \n",
      "=================================================================\n",
      " conv2d (Conv2D)             (None, 104, 104, 159)     4452      \n",
      "                                                                 \n",
      " max_pooling2d (MaxPooling2D  (None, 52, 52, 159)      0         \n",
      " )                                                               \n",
      "                                                                 \n",
      " conv2d_1 (Conv2D)           (None, 52, 52, 104)       148928    \n",
      "                                                                 \n",
      " max_pooling2d_1 (MaxPooling  (None, 26, 26, 104)      0         \n",
      " 2D)                                                             \n",
      "                                                                 \n",
      " conv2d_2 (Conv2D)           (None, 26, 26, 231)       216447    \n",
      "                                                                 \n",
      " FV (MaxPooling2D)           (None, 13, 13, 231)       0         \n",
      "                                                                 \n",
      " conv2d_transpose (Conv2DTra  (None, 13, 13, 146)      303680    \n",
      " nspose)                                                         \n",
      "                                                                 \n",
      " up_sampling2d (UpSampling2D  (None, 26, 26, 146)      0         \n",
      " )                                                               \n",
      "                                                                 \n",
      " conv2d_transpose_1 (Conv2DT  (None, 26, 26, 256)      336640    \n",
      " ranspose)                                                       \n",
      "                                                                 \n",
      " up_sampling2d_1 (UpSampling  (None, 52, 52, 256)      0         \n",
      " 2D)                                                             \n",
      "                                                                 \n",
      " conv2d_transpose_2 (Conv2DT  (None, 52, 52, 146)      336530    \n",
      " ranspose)                                                       \n",
      "                                                                 \n",
      " up_sampling2d_2 (UpSampling  (None, 104, 104, 146)    0         \n",
      " 2D)                                                             \n",
      "                                                                 \n",
      " OUT (Conv2D)                (None, 104, 104, 3)       3945      \n",
      "                                                                 \n",
      "=================================================================\n",
      "Total params: 1,350,622\n",
      "Trainable params: 1,350,622\n",
      "Non-trainable params: 0\n",
      "_________________________________________________________________\n",
      "Epoch 1/19\n",
      "557/557 [==============================] - ETA: 0s - loss: 27419910078464.0000"
     ]
    },
    {
     "name": "stderr",
     "output_type": "stream",
     "text": [
      "WARNING:absl:Found untraced functions such as _jit_compiled_convolution_op, _jit_compiled_convolution_op, _jit_compiled_convolution_op, _jit_compiled_convolution_op, _jit_compiled_convolution_op while saving (showing 5 of 7). These functions will not be directly callable after loading.\n"
     ]
    },
    {
     "name": "stdout",
     "output_type": "stream",
     "text": [
      "INFO:tensorflow:Assets written to: /home/oscar47/Desktop/physics/Physics-Sim-ML/swarm_v0.0.1/wandb/run-20230103_052024-eqkrbvu5/files/model-best/assets\n"
     ]
    },
    {
     "name": "stderr",
     "output_type": "stream",
     "text": [
      "INFO:tensorflow:Assets written to: /home/oscar47/Desktop/physics/Physics-Sim-ML/swarm_v0.0.1/wandb/run-20230103_052024-eqkrbvu5/files/model-best/assets\n",
      "\u001b[34m\u001b[1mwandb\u001b[0m: Adding directory to artifact (/home/oscar47/Desktop/physics/Physics-Sim-ML/swarm_v0.0.1/wandb/run-20230103_052024-eqkrbvu5/files/model-best)... Done. 0.1s\n"
     ]
    },
    {
     "name": "stdout",
     "output_type": "stream",
     "text": [
      "557/557 [==============================] - 1015s 2s/step - loss: 27419910078464.0000 - val_loss: 0.2225\n",
      "Epoch 2/19\n",
      "557/557 [==============================] - ETA: 0s - loss: 0.2225"
     ]
    },
    {
     "name": "stderr",
     "output_type": "stream",
     "text": [
      "WARNING:absl:Found untraced functions such as _jit_compiled_convolution_op, _jit_compiled_convolution_op, _jit_compiled_convolution_op, _jit_compiled_convolution_op, _jit_compiled_convolution_op while saving (showing 5 of 7). These functions will not be directly callable after loading.\n"
     ]
    },
    {
     "name": "stdout",
     "output_type": "stream",
     "text": [
      "INFO:tensorflow:Assets written to: /home/oscar47/Desktop/physics/Physics-Sim-ML/swarm_v0.0.1/wandb/run-20230103_052024-eqkrbvu5/files/model-best/assets\n"
     ]
    },
    {
     "name": "stderr",
     "output_type": "stream",
     "text": [
      "INFO:tensorflow:Assets written to: /home/oscar47/Desktop/physics/Physics-Sim-ML/swarm_v0.0.1/wandb/run-20230103_052024-eqkrbvu5/files/model-best/assets\n",
      "\u001b[34m\u001b[1mwandb\u001b[0m: Adding directory to artifact (/home/oscar47/Desktop/physics/Physics-Sim-ML/swarm_v0.0.1/wandb/run-20230103_052024-eqkrbvu5/files/model-best)... Done. 0.0s\n"
     ]
    },
    {
     "name": "stdout",
     "output_type": "stream",
     "text": [
      "557/557 [==============================] - 1011s 2s/step - loss: 0.2225 - val_loss: 0.2225\n",
      "Epoch 3/19\n",
      "557/557 [==============================] - ETA: 0s - loss: 0.2225"
     ]
    },
    {
     "name": "stderr",
     "output_type": "stream",
     "text": [
      "WARNING:absl:Found untraced functions such as _jit_compiled_convolution_op, _jit_compiled_convolution_op, _jit_compiled_convolution_op, _jit_compiled_convolution_op, _jit_compiled_convolution_op while saving (showing 5 of 7). These functions will not be directly callable after loading.\n"
     ]
    },
    {
     "name": "stdout",
     "output_type": "stream",
     "text": [
      "INFO:tensorflow:Assets written to: /home/oscar47/Desktop/physics/Physics-Sim-ML/swarm_v0.0.1/wandb/run-20230103_052024-eqkrbvu5/files/model-best/assets\n"
     ]
    },
    {
     "name": "stderr",
     "output_type": "stream",
     "text": [
      "INFO:tensorflow:Assets written to: /home/oscar47/Desktop/physics/Physics-Sim-ML/swarm_v0.0.1/wandb/run-20230103_052024-eqkrbvu5/files/model-best/assets\n",
      "\u001b[34m\u001b[1mwandb\u001b[0m: Adding directory to artifact (/home/oscar47/Desktop/physics/Physics-Sim-ML/swarm_v0.0.1/wandb/run-20230103_052024-eqkrbvu5/files/model-best)... Done. 0.0s\n"
     ]
    },
    {
     "name": "stdout",
     "output_type": "stream",
     "text": [
      "557/557 [==============================] - 1011s 2s/step - loss: 0.2225 - val_loss: 0.2225\n",
      "Epoch 4/19\n",
      "557/557 [==============================] - ETA: 0s - loss: 0.2225"
     ]
    },
    {
     "name": "stderr",
     "output_type": "stream",
     "text": [
      "WARNING:absl:Found untraced functions such as _jit_compiled_convolution_op, _jit_compiled_convolution_op, _jit_compiled_convolution_op, _jit_compiled_convolution_op, _jit_compiled_convolution_op while saving (showing 5 of 7). These functions will not be directly callable after loading.\n"
     ]
    },
    {
     "name": "stdout",
     "output_type": "stream",
     "text": [
      "INFO:tensorflow:Assets written to: /home/oscar47/Desktop/physics/Physics-Sim-ML/swarm_v0.0.1/wandb/run-20230103_052024-eqkrbvu5/files/model-best/assets\n"
     ]
    },
    {
     "name": "stderr",
     "output_type": "stream",
     "text": [
      "INFO:tensorflow:Assets written to: /home/oscar47/Desktop/physics/Physics-Sim-ML/swarm_v0.0.1/wandb/run-20230103_052024-eqkrbvu5/files/model-best/assets\n",
      "\u001b[34m\u001b[1mwandb\u001b[0m: Adding directory to artifact (/home/oscar47/Desktop/physics/Physics-Sim-ML/swarm_v0.0.1/wandb/run-20230103_052024-eqkrbvu5/files/model-best)... Done. 0.0s\n"
     ]
    },
    {
     "name": "stdout",
     "output_type": "stream",
     "text": [
      "557/557 [==============================] - 1013s 2s/step - loss: 0.2225 - val_loss: 0.2225\n",
      "Epoch 5/19\n",
      "557/557 [==============================] - ETA: 0s - loss: 0.2225"
     ]
    },
    {
     "name": "stderr",
     "output_type": "stream",
     "text": [
      "WARNING:absl:Found untraced functions such as _jit_compiled_convolution_op, _jit_compiled_convolution_op, _jit_compiled_convolution_op, _jit_compiled_convolution_op, _jit_compiled_convolution_op while saving (showing 5 of 7). These functions will not be directly callable after loading.\n"
     ]
    },
    {
     "name": "stdout",
     "output_type": "stream",
     "text": [
      "INFO:tensorflow:Assets written to: /home/oscar47/Desktop/physics/Physics-Sim-ML/swarm_v0.0.1/wandb/run-20230103_052024-eqkrbvu5/files/model-best/assets\n"
     ]
    },
    {
     "name": "stderr",
     "output_type": "stream",
     "text": [
      "INFO:tensorflow:Assets written to: /home/oscar47/Desktop/physics/Physics-Sim-ML/swarm_v0.0.1/wandb/run-20230103_052024-eqkrbvu5/files/model-best/assets\n",
      "\u001b[34m\u001b[1mwandb\u001b[0m: Adding directory to artifact (/home/oscar47/Desktop/physics/Physics-Sim-ML/swarm_v0.0.1/wandb/run-20230103_052024-eqkrbvu5/files/model-best)... Done. 0.0s\n"
     ]
    },
    {
     "name": "stdout",
     "output_type": "stream",
     "text": [
      "557/557 [==============================] - 1013s 2s/step - loss: 0.2225 - val_loss: 0.2225\n",
      "Epoch 6/19\n",
      "557/557 [==============================] - ETA: 0s - loss: 0.2225"
     ]
    },
    {
     "name": "stderr",
     "output_type": "stream",
     "text": [
      "WARNING:absl:Found untraced functions such as _jit_compiled_convolution_op, _jit_compiled_convolution_op, _jit_compiled_convolution_op, _jit_compiled_convolution_op, _jit_compiled_convolution_op while saving (showing 5 of 7). These functions will not be directly callable after loading.\n"
     ]
    },
    {
     "name": "stdout",
     "output_type": "stream",
     "text": [
      "INFO:tensorflow:Assets written to: /home/oscar47/Desktop/physics/Physics-Sim-ML/swarm_v0.0.1/wandb/run-20230103_052024-eqkrbvu5/files/model-best/assets\n"
     ]
    },
    {
     "name": "stderr",
     "output_type": "stream",
     "text": [
      "INFO:tensorflow:Assets written to: /home/oscar47/Desktop/physics/Physics-Sim-ML/swarm_v0.0.1/wandb/run-20230103_052024-eqkrbvu5/files/model-best/assets\n",
      "\u001b[34m\u001b[1mwandb\u001b[0m: Adding directory to artifact (/home/oscar47/Desktop/physics/Physics-Sim-ML/swarm_v0.0.1/wandb/run-20230103_052024-eqkrbvu5/files/model-best)... Done. 0.0s\n"
     ]
    },
    {
     "name": "stdout",
     "output_type": "stream",
     "text": [
      "557/557 [==============================] - 1015s 2s/step - loss: 0.2225 - val_loss: 0.2225\n",
      "Epoch 7/19\n",
      "557/557 [==============================] - ETA: 0s - loss: 0.2225"
     ]
    },
    {
     "name": "stderr",
     "output_type": "stream",
     "text": [
      "WARNING:absl:Found untraced functions such as _jit_compiled_convolution_op, _jit_compiled_convolution_op, _jit_compiled_convolution_op, _jit_compiled_convolution_op, _jit_compiled_convolution_op while saving (showing 5 of 7). These functions will not be directly callable after loading.\n"
     ]
    },
    {
     "name": "stdout",
     "output_type": "stream",
     "text": [
      "INFO:tensorflow:Assets written to: /home/oscar47/Desktop/physics/Physics-Sim-ML/swarm_v0.0.1/wandb/run-20230103_052024-eqkrbvu5/files/model-best/assets\n"
     ]
    },
    {
     "name": "stderr",
     "output_type": "stream",
     "text": [
      "INFO:tensorflow:Assets written to: /home/oscar47/Desktop/physics/Physics-Sim-ML/swarm_v0.0.1/wandb/run-20230103_052024-eqkrbvu5/files/model-best/assets\n",
      "\u001b[34m\u001b[1mwandb\u001b[0m: Adding directory to artifact (/home/oscar47/Desktop/physics/Physics-Sim-ML/swarm_v0.0.1/wandb/run-20230103_052024-eqkrbvu5/files/model-best)... Done. 0.1s\n"
     ]
    },
    {
     "name": "stdout",
     "output_type": "stream",
     "text": [
      "557/557 [==============================] - 1014s 2s/step - loss: 0.2225 - val_loss: 0.2225\n",
      "Epoch 8/19\n",
      "557/557 [==============================] - ETA: 0s - loss: 0.2225"
     ]
    },
    {
     "name": "stderr",
     "output_type": "stream",
     "text": [
      "WARNING:absl:Found untraced functions such as _jit_compiled_convolution_op, _jit_compiled_convolution_op, _jit_compiled_convolution_op, _jit_compiled_convolution_op, _jit_compiled_convolution_op while saving (showing 5 of 7). These functions will not be directly callable after loading.\n"
     ]
    },
    {
     "name": "stdout",
     "output_type": "stream",
     "text": [
      "INFO:tensorflow:Assets written to: /home/oscar47/Desktop/physics/Physics-Sim-ML/swarm_v0.0.1/wandb/run-20230103_052024-eqkrbvu5/files/model-best/assets\n"
     ]
    },
    {
     "name": "stderr",
     "output_type": "stream",
     "text": [
      "INFO:tensorflow:Assets written to: /home/oscar47/Desktop/physics/Physics-Sim-ML/swarm_v0.0.1/wandb/run-20230103_052024-eqkrbvu5/files/model-best/assets\n",
      "\u001b[34m\u001b[1mwandb\u001b[0m: Adding directory to artifact (/home/oscar47/Desktop/physics/Physics-Sim-ML/swarm_v0.0.1/wandb/run-20230103_052024-eqkrbvu5/files/model-best)... Done. 0.1s\n"
     ]
    },
    {
     "name": "stdout",
     "output_type": "stream",
     "text": [
      "557/557 [==============================] - 1015s 2s/step - loss: 0.2225 - val_loss: 0.2224\n",
      "Epoch 9/19\n",
      "557/557 [==============================] - ETA: 0s - loss: 0.2224"
     ]
    },
    {
     "name": "stderr",
     "output_type": "stream",
     "text": [
      "WARNING:absl:Found untraced functions such as _jit_compiled_convolution_op, _jit_compiled_convolution_op, _jit_compiled_convolution_op, _jit_compiled_convolution_op, _jit_compiled_convolution_op while saving (showing 5 of 7). These functions will not be directly callable after loading.\n"
     ]
    },
    {
     "name": "stdout",
     "output_type": "stream",
     "text": [
      "INFO:tensorflow:Assets written to: /home/oscar47/Desktop/physics/Physics-Sim-ML/swarm_v0.0.1/wandb/run-20230103_052024-eqkrbvu5/files/model-best/assets\n"
     ]
    },
    {
     "name": "stderr",
     "output_type": "stream",
     "text": [
      "INFO:tensorflow:Assets written to: /home/oscar47/Desktop/physics/Physics-Sim-ML/swarm_v0.0.1/wandb/run-20230103_052024-eqkrbvu5/files/model-best/assets\n",
      "\u001b[34m\u001b[1mwandb\u001b[0m: Adding directory to artifact (/home/oscar47/Desktop/physics/Physics-Sim-ML/swarm_v0.0.1/wandb/run-20230103_052024-eqkrbvu5/files/model-best)... Done. 0.0s\n"
     ]
    },
    {
     "name": "stdout",
     "output_type": "stream",
     "text": [
      "557/557 [==============================] - 1015s 2s/step - loss: 0.2224 - val_loss: 0.2224\n",
      "Epoch 10/19\n",
      "557/557 [==============================] - ETA: 0s - loss: 0.2224"
     ]
    },
    {
     "name": "stderr",
     "output_type": "stream",
     "text": [
      "WARNING:absl:Found untraced functions such as _jit_compiled_convolution_op, _jit_compiled_convolution_op, _jit_compiled_convolution_op, _jit_compiled_convolution_op, _jit_compiled_convolution_op while saving (showing 5 of 7). These functions will not be directly callable after loading.\n"
     ]
    },
    {
     "name": "stdout",
     "output_type": "stream",
     "text": [
      "INFO:tensorflow:Assets written to: /home/oscar47/Desktop/physics/Physics-Sim-ML/swarm_v0.0.1/wandb/run-20230103_052024-eqkrbvu5/files/model-best/assets\n"
     ]
    },
    {
     "name": "stderr",
     "output_type": "stream",
     "text": [
      "INFO:tensorflow:Assets written to: /home/oscar47/Desktop/physics/Physics-Sim-ML/swarm_v0.0.1/wandb/run-20230103_052024-eqkrbvu5/files/model-best/assets\n",
      "\u001b[34m\u001b[1mwandb\u001b[0m: Adding directory to artifact (/home/oscar47/Desktop/physics/Physics-Sim-ML/swarm_v0.0.1/wandb/run-20230103_052024-eqkrbvu5/files/model-best)... Done. 0.1s\n"
     ]
    },
    {
     "name": "stdout",
     "output_type": "stream",
     "text": [
      "557/557 [==============================] - 1010s 2s/step - loss: 0.2224 - val_loss: 0.2224\n",
      "Epoch 11/19\n",
      "557/557 [==============================] - ETA: 0s - loss: 0.2224"
     ]
    },
    {
     "name": "stderr",
     "output_type": "stream",
     "text": [
      "WARNING:absl:Found untraced functions such as _jit_compiled_convolution_op, _jit_compiled_convolution_op, _jit_compiled_convolution_op, _jit_compiled_convolution_op, _jit_compiled_convolution_op while saving (showing 5 of 7). These functions will not be directly callable after loading.\n"
     ]
    },
    {
     "name": "stdout",
     "output_type": "stream",
     "text": [
      "INFO:tensorflow:Assets written to: /home/oscar47/Desktop/physics/Physics-Sim-ML/swarm_v0.0.1/wandb/run-20230103_052024-eqkrbvu5/files/model-best/assets\n"
     ]
    },
    {
     "name": "stderr",
     "output_type": "stream",
     "text": [
      "INFO:tensorflow:Assets written to: /home/oscar47/Desktop/physics/Physics-Sim-ML/swarm_v0.0.1/wandb/run-20230103_052024-eqkrbvu5/files/model-best/assets\n",
      "\u001b[34m\u001b[1mwandb\u001b[0m: Adding directory to artifact (/home/oscar47/Desktop/physics/Physics-Sim-ML/swarm_v0.0.1/wandb/run-20230103_052024-eqkrbvu5/files/model-best)... Done. 0.0s\n"
     ]
    },
    {
     "name": "stdout",
     "output_type": "stream",
     "text": [
      "557/557 [==============================] - 1010s 2s/step - loss: 0.2224 - val_loss: 0.2223\n",
      "Epoch 12/19\n",
      "557/557 [==============================] - ETA: 0s - loss: 0.2223"
     ]
    },
    {
     "name": "stderr",
     "output_type": "stream",
     "text": [
      "WARNING:absl:Found untraced functions such as _jit_compiled_convolution_op, _jit_compiled_convolution_op, _jit_compiled_convolution_op, _jit_compiled_convolution_op, _jit_compiled_convolution_op while saving (showing 5 of 7). These functions will not be directly callable after loading.\n"
     ]
    },
    {
     "name": "stdout",
     "output_type": "stream",
     "text": [
      "INFO:tensorflow:Assets written to: /home/oscar47/Desktop/physics/Physics-Sim-ML/swarm_v0.0.1/wandb/run-20230103_052024-eqkrbvu5/files/model-best/assets\n"
     ]
    },
    {
     "name": "stderr",
     "output_type": "stream",
     "text": [
      "INFO:tensorflow:Assets written to: /home/oscar47/Desktop/physics/Physics-Sim-ML/swarm_v0.0.1/wandb/run-20230103_052024-eqkrbvu5/files/model-best/assets\n",
      "\u001b[34m\u001b[1mwandb\u001b[0m: Adding directory to artifact (/home/oscar47/Desktop/physics/Physics-Sim-ML/swarm_v0.0.1/wandb/run-20230103_052024-eqkrbvu5/files/model-best)... Done. 0.0s\n"
     ]
    },
    {
     "name": "stdout",
     "output_type": "stream",
     "text": [
      "557/557 [==============================] - 1013s 2s/step - loss: 0.2223 - val_loss: 0.2222\n",
      "Epoch 13/19\n",
      "557/557 [==============================] - ETA: 0s - loss: 0.2222"
     ]
    },
    {
     "name": "stderr",
     "output_type": "stream",
     "text": [
      "WARNING:absl:Found untraced functions such as _jit_compiled_convolution_op, _jit_compiled_convolution_op, _jit_compiled_convolution_op, _jit_compiled_convolution_op, _jit_compiled_convolution_op while saving (showing 5 of 7). These functions will not be directly callable after loading.\n"
     ]
    },
    {
     "name": "stdout",
     "output_type": "stream",
     "text": [
      "INFO:tensorflow:Assets written to: /home/oscar47/Desktop/physics/Physics-Sim-ML/swarm_v0.0.1/wandb/run-20230103_052024-eqkrbvu5/files/model-best/assets\n"
     ]
    },
    {
     "name": "stderr",
     "output_type": "stream",
     "text": [
      "INFO:tensorflow:Assets written to: /home/oscar47/Desktop/physics/Physics-Sim-ML/swarm_v0.0.1/wandb/run-20230103_052024-eqkrbvu5/files/model-best/assets\n",
      "\u001b[34m\u001b[1mwandb\u001b[0m: Adding directory to artifact (/home/oscar47/Desktop/physics/Physics-Sim-ML/swarm_v0.0.1/wandb/run-20230103_052024-eqkrbvu5/files/model-best)... Done. 0.0s\n"
     ]
    },
    {
     "name": "stdout",
     "output_type": "stream",
     "text": [
      "557/557 [==============================] - 1015s 2s/step - loss: 0.2222 - val_loss: 0.2221\n",
      "Epoch 14/19\n",
      "557/557 [==============================] - ETA: 0s - loss: 0.2221"
     ]
    },
    {
     "name": "stderr",
     "output_type": "stream",
     "text": [
      "WARNING:absl:Found untraced functions such as _jit_compiled_convolution_op, _jit_compiled_convolution_op, _jit_compiled_convolution_op, _jit_compiled_convolution_op, _jit_compiled_convolution_op while saving (showing 5 of 7). These functions will not be directly callable after loading.\n"
     ]
    },
    {
     "name": "stdout",
     "output_type": "stream",
     "text": [
      "INFO:tensorflow:Assets written to: /home/oscar47/Desktop/physics/Physics-Sim-ML/swarm_v0.0.1/wandb/run-20230103_052024-eqkrbvu5/files/model-best/assets\n"
     ]
    },
    {
     "name": "stderr",
     "output_type": "stream",
     "text": [
      "INFO:tensorflow:Assets written to: /home/oscar47/Desktop/physics/Physics-Sim-ML/swarm_v0.0.1/wandb/run-20230103_052024-eqkrbvu5/files/model-best/assets\n",
      "\u001b[34m\u001b[1mwandb\u001b[0m: Adding directory to artifact (/home/oscar47/Desktop/physics/Physics-Sim-ML/swarm_v0.0.1/wandb/run-20230103_052024-eqkrbvu5/files/model-best)... Done. 0.0s\n"
     ]
    },
    {
     "name": "stdout",
     "output_type": "stream",
     "text": [
      "557/557 [==============================] - 1015s 2s/step - loss: 0.2221 - val_loss: 0.2220\n",
      "Epoch 15/19\n",
      "557/557 [==============================] - ETA: 0s - loss: 0.2220"
     ]
    },
    {
     "name": "stderr",
     "output_type": "stream",
     "text": [
      "WARNING:absl:Found untraced functions such as _jit_compiled_convolution_op, _jit_compiled_convolution_op, _jit_compiled_convolution_op, _jit_compiled_convolution_op, _jit_compiled_convolution_op while saving (showing 5 of 7). These functions will not be directly callable after loading.\n"
     ]
    },
    {
     "name": "stdout",
     "output_type": "stream",
     "text": [
      "INFO:tensorflow:Assets written to: /home/oscar47/Desktop/physics/Physics-Sim-ML/swarm_v0.0.1/wandb/run-20230103_052024-eqkrbvu5/files/model-best/assets\n"
     ]
    },
    {
     "name": "stderr",
     "output_type": "stream",
     "text": [
      "INFO:tensorflow:Assets written to: /home/oscar47/Desktop/physics/Physics-Sim-ML/swarm_v0.0.1/wandb/run-20230103_052024-eqkrbvu5/files/model-best/assets\n",
      "\u001b[34m\u001b[1mwandb\u001b[0m: Adding directory to artifact (/home/oscar47/Desktop/physics/Physics-Sim-ML/swarm_v0.0.1/wandb/run-20230103_052024-eqkrbvu5/files/model-best)... Done. 0.0s\n"
     ]
    },
    {
     "name": "stdout",
     "output_type": "stream",
     "text": [
      "557/557 [==============================] - 1014s 2s/step - loss: 0.2220 - val_loss: 0.2219\n",
      "Epoch 16/19\n",
      "557/557 [==============================] - ETA: 0s - loss: 0.2218"
     ]
    },
    {
     "name": "stderr",
     "output_type": "stream",
     "text": [
      "WARNING:absl:Found untraced functions such as _jit_compiled_convolution_op, _jit_compiled_convolution_op, _jit_compiled_convolution_op, _jit_compiled_convolution_op, _jit_compiled_convolution_op while saving (showing 5 of 7). These functions will not be directly callable after loading.\n"
     ]
    },
    {
     "name": "stdout",
     "output_type": "stream",
     "text": [
      "INFO:tensorflow:Assets written to: /home/oscar47/Desktop/physics/Physics-Sim-ML/swarm_v0.0.1/wandb/run-20230103_052024-eqkrbvu5/files/model-best/assets\n"
     ]
    },
    {
     "name": "stderr",
     "output_type": "stream",
     "text": [
      "INFO:tensorflow:Assets written to: /home/oscar47/Desktop/physics/Physics-Sim-ML/swarm_v0.0.1/wandb/run-20230103_052024-eqkrbvu5/files/model-best/assets\n",
      "\u001b[34m\u001b[1mwandb\u001b[0m: Adding directory to artifact (/home/oscar47/Desktop/physics/Physics-Sim-ML/swarm_v0.0.1/wandb/run-20230103_052024-eqkrbvu5/files/model-best)... Done. 0.1s\n"
     ]
    },
    {
     "name": "stdout",
     "output_type": "stream",
     "text": [
      "557/557 [==============================] - 1013s 2s/step - loss: 0.2218 - val_loss: 0.2216\n",
      "Epoch 17/19\n",
      "557/557 [==============================] - ETA: 0s - loss: 0.2215"
     ]
    },
    {
     "name": "stderr",
     "output_type": "stream",
     "text": [
      "WARNING:absl:Found untraced functions such as _jit_compiled_convolution_op, _jit_compiled_convolution_op, _jit_compiled_convolution_op, _jit_compiled_convolution_op, _jit_compiled_convolution_op while saving (showing 5 of 7). These functions will not be directly callable after loading.\n"
     ]
    },
    {
     "name": "stdout",
     "output_type": "stream",
     "text": [
      "INFO:tensorflow:Assets written to: /home/oscar47/Desktop/physics/Physics-Sim-ML/swarm_v0.0.1/wandb/run-20230103_052024-eqkrbvu5/files/model-best/assets\n"
     ]
    },
    {
     "name": "stderr",
     "output_type": "stream",
     "text": [
      "INFO:tensorflow:Assets written to: /home/oscar47/Desktop/physics/Physics-Sim-ML/swarm_v0.0.1/wandb/run-20230103_052024-eqkrbvu5/files/model-best/assets\n",
      "\u001b[34m\u001b[1mwandb\u001b[0m: Adding directory to artifact (/home/oscar47/Desktop/physics/Physics-Sim-ML/swarm_v0.0.1/wandb/run-20230103_052024-eqkrbvu5/files/model-best)... Done. 0.0s\n"
     ]
    },
    {
     "name": "stdout",
     "output_type": "stream",
     "text": [
      "557/557 [==============================] - 1015s 2s/step - loss: 0.2215 - val_loss: 0.2213\n",
      "Epoch 18/19\n",
      "557/557 [==============================] - ETA: 0s - loss: 0.2212"
     ]
    },
    {
     "name": "stderr",
     "output_type": "stream",
     "text": [
      "WARNING:absl:Found untraced functions such as _jit_compiled_convolution_op, _jit_compiled_convolution_op, _jit_compiled_convolution_op, _jit_compiled_convolution_op, _jit_compiled_convolution_op while saving (showing 5 of 7). These functions will not be directly callable after loading.\n"
     ]
    },
    {
     "name": "stdout",
     "output_type": "stream",
     "text": [
      "INFO:tensorflow:Assets written to: /home/oscar47/Desktop/physics/Physics-Sim-ML/swarm_v0.0.1/wandb/run-20230103_052024-eqkrbvu5/files/model-best/assets\n"
     ]
    },
    {
     "name": "stderr",
     "output_type": "stream",
     "text": [
      "INFO:tensorflow:Assets written to: /home/oscar47/Desktop/physics/Physics-Sim-ML/swarm_v0.0.1/wandb/run-20230103_052024-eqkrbvu5/files/model-best/assets\n",
      "\u001b[34m\u001b[1mwandb\u001b[0m: Adding directory to artifact (/home/oscar47/Desktop/physics/Physics-Sim-ML/swarm_v0.0.1/wandb/run-20230103_052024-eqkrbvu5/files/model-best)... Done. 0.0s\n"
     ]
    },
    {
     "name": "stdout",
     "output_type": "stream",
     "text": [
      "557/557 [==============================] - 1016s 2s/step - loss: 0.2212 - val_loss: 0.2210\n",
      "Epoch 19/19\n",
      "557/557 [==============================] - ETA: 0s - loss: 0.2207"
     ]
    },
    {
     "name": "stderr",
     "output_type": "stream",
     "text": [
      "WARNING:absl:Found untraced functions such as _jit_compiled_convolution_op, _jit_compiled_convolution_op, _jit_compiled_convolution_op, _jit_compiled_convolution_op, _jit_compiled_convolution_op while saving (showing 5 of 7). These functions will not be directly callable after loading.\n"
     ]
    },
    {
     "name": "stdout",
     "output_type": "stream",
     "text": [
      "INFO:tensorflow:Assets written to: /home/oscar47/Desktop/physics/Physics-Sim-ML/swarm_v0.0.1/wandb/run-20230103_052024-eqkrbvu5/files/model-best/assets\n"
     ]
    },
    {
     "name": "stderr",
     "output_type": "stream",
     "text": [
      "INFO:tensorflow:Assets written to: /home/oscar47/Desktop/physics/Physics-Sim-ML/swarm_v0.0.1/wandb/run-20230103_052024-eqkrbvu5/files/model-best/assets\n",
      "\u001b[34m\u001b[1mwandb\u001b[0m: Adding directory to artifact (/home/oscar47/Desktop/physics/Physics-Sim-ML/swarm_v0.0.1/wandb/run-20230103_052024-eqkrbvu5/files/model-best)... Done. 0.0s\n"
     ]
    },
    {
     "name": "stdout",
     "output_type": "stream",
     "text": [
      "557/557 [==============================] - 1009s 2s/step - loss: 0.2207 - val_loss: 0.2205\n"
     ]
    },
    {
     "data": {
      "text/html": [
       "Waiting for W&B process to finish... <strong style=\"color:green\">(success).</strong>"
      ],
      "text/plain": [
       "<IPython.core.display.HTML object>"
      ]
     },
     "metadata": {},
     "output_type": "display_data"
    },
    {
     "data": {
      "text/html": [
       "<style>\n",
       "    table.wandb td:nth-child(1) { padding: 0 10px; text-align: left ; width: auto;} td:nth-child(2) {text-align: left ; width: 100%}\n",
       "    .wandb-row { display: flex; flex-direction: row; flex-wrap: wrap; justify-content: flex-start; width: 100% }\n",
       "    .wandb-col { display: flex; flex-direction: column; flex-basis: 100%; flex: 1; padding: 10px; }\n",
       "    </style>\n",
       "<div class=\"wandb-row\"><div class=\"wandb-col\"><h3>Run history:</h3><br/><table class=\"wandb\"><tr><td>epoch</td><td>▁▁▂▂▃▃▃▄▄▅▅▅▆▆▆▇▇██</td></tr><tr><td>loss</td><td>█▁▁▁▁▁▁▁▁▁▁▁▁▁▁▁▁▁▁</td></tr><tr><td>val_loss</td><td>█████████▇▇▇▇▆▆▅▄▃▁</td></tr></table><br/></div><div class=\"wandb-col\"><h3>Run summary:</h3><br/><table class=\"wandb\"><tr><td>best_epoch</td><td>18</td></tr><tr><td>best_val_loss</td><td>0.22047</td></tr><tr><td>epoch</td><td>18</td></tr><tr><td>loss</td><td>0.22074</td></tr><tr><td>val_loss</td><td>0.22047</td></tr></table><br/></div></div>"
      ],
      "text/plain": [
       "<IPython.core.display.HTML object>"
      ]
     },
     "metadata": {},
     "output_type": "display_data"
    },
    {
     "data": {
      "text/html": [
       "Synced <strong style=\"color:#cdcd00\">clear-sweep-2</strong>: <a href=\"https://wandb.ai/oscarscholin/PHLUID-SwarmCAE2/runs/eqkrbvu5\" target=\"_blank\">https://wandb.ai/oscarscholin/PHLUID-SwarmCAE2/runs/eqkrbvu5</a><br/>Synced 6 W&B file(s), 1 media file(s), 77 artifact file(s) and 1 other file(s)"
      ],
      "text/plain": [
       "<IPython.core.display.HTML object>"
      ]
     },
     "metadata": {},
     "output_type": "display_data"
    },
    {
     "data": {
      "text/html": [
       "Find logs at: <code>./wandb/run-20230103_052024-eqkrbvu5/logs</code>"
      ],
      "text/plain": [
       "<IPython.core.display.HTML object>"
      ]
     },
     "metadata": {},
     "output_type": "display_data"
    },
    {
     "name": "stderr",
     "output_type": "stream",
     "text": [
      "\u001b[34m\u001b[1mwandb\u001b[0m: Agent Starting Run: mk1uctir with config:\n",
      "\u001b[34m\u001b[1mwandb\u001b[0m: \tbatch_size: 32\n",
      "\u001b[34m\u001b[1mwandb\u001b[0m: \tconv2d1_size: 193\n",
      "\u001b[34m\u001b[1mwandb\u001b[0m: \tconv2d2_size: 157\n",
      "\u001b[34m\u001b[1mwandb\u001b[0m: \tconv2d3_size: 226\n",
      "\u001b[34m\u001b[1mwandb\u001b[0m: \tconvtrans1_size: 141\n",
      "\u001b[34m\u001b[1mwandb\u001b[0m: \tconvtrans2_size: 243\n",
      "\u001b[34m\u001b[1mwandb\u001b[0m: \tconvtrans3_size: 186\n",
      "\u001b[34m\u001b[1mwandb\u001b[0m: \tepochs: 16\n",
      "\u001b[34m\u001b[1mwandb\u001b[0m: \tlearning_rate: 0.07723124813415772\n"
     ]
    },
    {
     "data": {
      "text/html": [
       "Tracking run with wandb version 0.13.7"
      ],
      "text/plain": [
       "<IPython.core.display.HTML object>"
      ]
     },
     "metadata": {},
     "output_type": "display_data"
    },
    {
     "data": {
      "text/html": [
       "Run data is saved locally in <code>/home/oscar47/Desktop/physics/Physics-Sim-ML/swarm_v0.0.1/wandb/run-20230103_104200-mk1uctir</code>"
      ],
      "text/plain": [
       "<IPython.core.display.HTML object>"
      ]
     },
     "metadata": {},
     "output_type": "display_data"
    },
    {
     "data": {
      "text/html": [
       "Syncing run <strong><a href=\"https://wandb.ai/oscarscholin/PHLUID-SwarmCAE2/runs/mk1uctir\" target=\"_blank\">cerulean-sweep-3</a></strong> to <a href=\"https://wandb.ai/oscarscholin/PHLUID-SwarmCAE2\" target=\"_blank\">Weights & Biases</a> (<a href=\"https://wandb.me/run\" target=\"_blank\">docs</a>)<br/>Sweep page:  <a href=\"https://wandb.ai/oscarscholin/PHLUID-SwarmCAE2/sweeps/kgt5cdfq\" target=\"_blank\">https://wandb.ai/oscarscholin/PHLUID-SwarmCAE2/sweeps/kgt5cdfq</a>"
      ],
      "text/plain": [
       "<IPython.core.display.HTML object>"
      ]
     },
     "metadata": {},
     "output_type": "display_data"
    },
    {
     "name": "stdout",
     "output_type": "stream",
     "text": [
      "Model: \"sequential\"\n",
      "_________________________________________________________________\n",
      " Layer (type)                Output Shape              Param #   \n",
      "=================================================================\n",
      " conv2d (Conv2D)             (None, 104, 104, 193)     5404      \n",
      "                                                                 \n",
      " max_pooling2d (MaxPooling2D  (None, 52, 52, 193)      0         \n",
      " )                                                               \n",
      "                                                                 \n",
      " conv2d_1 (Conv2D)           (None, 52, 52, 157)       272866    \n",
      "                                                                 \n",
      " max_pooling2d_1 (MaxPooling  (None, 26, 26, 157)      0         \n",
      " 2D)                                                             \n",
      "                                                                 \n",
      " conv2d_2 (Conv2D)           (None, 26, 26, 226)       319564    \n",
      "                                                                 \n",
      " FV (MaxPooling2D)           (None, 13, 13, 226)       0         \n",
      "                                                                 \n",
      " conv2d_transpose (Conv2DTra  (None, 13, 13, 141)      286935    \n",
      " nspose)                                                         \n",
      "                                                                 \n",
      " up_sampling2d (UpSampling2D  (None, 26, 26, 141)      0         \n",
      " )                                                               \n",
      "                                                                 \n",
      " conv2d_transpose_1 (Conv2DT  (None, 26, 26, 243)      308610    \n",
      " ranspose)                                                       \n",
      "                                                                 \n",
      " up_sampling2d_1 (UpSampling  (None, 52, 52, 243)      0         \n",
      " 2D)                                                             \n",
      "                                                                 \n",
      " conv2d_transpose_2 (Conv2DT  (None, 52, 52, 141)      308508    \n",
      " ranspose)                                                       \n",
      "                                                                 \n",
      " up_sampling2d_2 (UpSampling  (None, 104, 104, 141)    0         \n",
      " 2D)                                                             \n",
      "                                                                 \n",
      " OUT (Conv2D)                (None, 104, 104, 3)       3810      \n",
      "                                                                 \n",
      "=================================================================\n",
      "Total params: 1,505,697\n",
      "Trainable params: 1,505,697\n",
      "Non-trainable params: 0\n",
      "_________________________________________________________________\n",
      "Epoch 1/16\n",
      "2784/2784 [==============================] - ETA: 0s - loss: 11827776218726400.0000"
     ]
    },
    {
     "name": "stderr",
     "output_type": "stream",
     "text": [
      "WARNING:absl:Found untraced functions such as _jit_compiled_convolution_op, _jit_compiled_convolution_op, _jit_compiled_convolution_op, _jit_compiled_convolution_op, _jit_compiled_convolution_op while saving (showing 5 of 7). These functions will not be directly callable after loading.\n"
     ]
    },
    {
     "name": "stdout",
     "output_type": "stream",
     "text": [
      "INFO:tensorflow:Assets written to: /home/oscar47/Desktop/physics/Physics-Sim-ML/swarm_v0.0.1/wandb/run-20230103_104200-mk1uctir/files/model-best/assets\n"
     ]
    },
    {
     "name": "stderr",
     "output_type": "stream",
     "text": [
      "INFO:tensorflow:Assets written to: /home/oscar47/Desktop/physics/Physics-Sim-ML/swarm_v0.0.1/wandb/run-20230103_104200-mk1uctir/files/model-best/assets\n",
      "\u001b[34m\u001b[1mwandb\u001b[0m: Adding directory to artifact (/home/oscar47/Desktop/physics/Physics-Sim-ML/swarm_v0.0.1/wandb/run-20230103_104200-mk1uctir/files/model-best)... Done. 0.0s\n"
     ]
    },
    {
     "name": "stdout",
     "output_type": "stream",
     "text": [
      "2784/2784 [==============================] - 1133s 407ms/step - loss: 11827776218726400.0000 - val_loss: 0.0387\n",
      "Epoch 2/16\n",
      "2784/2784 [==============================] - ETA: 0s - loss: 0.0374"
     ]
    },
    {
     "name": "stderr",
     "output_type": "stream",
     "text": [
      "WARNING:absl:Found untraced functions such as _jit_compiled_convolution_op, _jit_compiled_convolution_op, _jit_compiled_convolution_op, _jit_compiled_convolution_op, _jit_compiled_convolution_op while saving (showing 5 of 7). These functions will not be directly callable after loading.\n"
     ]
    },
    {
     "name": "stdout",
     "output_type": "stream",
     "text": [
      "INFO:tensorflow:Assets written to: /home/oscar47/Desktop/physics/Physics-Sim-ML/swarm_v0.0.1/wandb/run-20230103_104200-mk1uctir/files/model-best/assets\n"
     ]
    },
    {
     "name": "stderr",
     "output_type": "stream",
     "text": [
      "INFO:tensorflow:Assets written to: /home/oscar47/Desktop/physics/Physics-Sim-ML/swarm_v0.0.1/wandb/run-20230103_104200-mk1uctir/files/model-best/assets\n",
      "\u001b[34m\u001b[1mwandb\u001b[0m: Adding directory to artifact (/home/oscar47/Desktop/physics/Physics-Sim-ML/swarm_v0.0.1/wandb/run-20230103_104200-mk1uctir/files/model-best)... Done. 0.1s\n"
     ]
    },
    {
     "name": "stdout",
     "output_type": "stream",
     "text": [
      "2784/2784 [==============================] - 1130s 406ms/step - loss: 0.0374 - val_loss: 0.0358\n",
      "Epoch 3/16\n",
      "2784/2784 [==============================] - ETA: 0s - loss: 0.0342"
     ]
    },
    {
     "name": "stderr",
     "output_type": "stream",
     "text": [
      "WARNING:absl:Found untraced functions such as _jit_compiled_convolution_op, _jit_compiled_convolution_op, _jit_compiled_convolution_op, _jit_compiled_convolution_op, _jit_compiled_convolution_op while saving (showing 5 of 7). These functions will not be directly callable after loading.\n"
     ]
    },
    {
     "name": "stdout",
     "output_type": "stream",
     "text": [
      "INFO:tensorflow:Assets written to: /home/oscar47/Desktop/physics/Physics-Sim-ML/swarm_v0.0.1/wandb/run-20230103_104200-mk1uctir/files/model-best/assets\n"
     ]
    },
    {
     "name": "stderr",
     "output_type": "stream",
     "text": [
      "INFO:tensorflow:Assets written to: /home/oscar47/Desktop/physics/Physics-Sim-ML/swarm_v0.0.1/wandb/run-20230103_104200-mk1uctir/files/model-best/assets\n",
      "\u001b[34m\u001b[1mwandb\u001b[0m: Adding directory to artifact (/home/oscar47/Desktop/physics/Physics-Sim-ML/swarm_v0.0.1/wandb/run-20230103_104200-mk1uctir/files/model-best)... Done. 0.1s\n"
     ]
    },
    {
     "name": "stdout",
     "output_type": "stream",
     "text": [
      "2784/2784 [==============================] - 1130s 406ms/step - loss: 0.0342 - val_loss: 0.0331\n",
      "Epoch 4/16\n",
      "2784/2784 [==============================] - ETA: 0s - loss: 0.0330"
     ]
    },
    {
     "name": "stderr",
     "output_type": "stream",
     "text": [
      "WARNING:absl:Found untraced functions such as _jit_compiled_convolution_op, _jit_compiled_convolution_op, _jit_compiled_convolution_op, _jit_compiled_convolution_op, _jit_compiled_convolution_op while saving (showing 5 of 7). These functions will not be directly callable after loading.\n"
     ]
    },
    {
     "name": "stdout",
     "output_type": "stream",
     "text": [
      "INFO:tensorflow:Assets written to: /home/oscar47/Desktop/physics/Physics-Sim-ML/swarm_v0.0.1/wandb/run-20230103_104200-mk1uctir/files/model-best/assets\n"
     ]
    },
    {
     "name": "stderr",
     "output_type": "stream",
     "text": [
      "INFO:tensorflow:Assets written to: /home/oscar47/Desktop/physics/Physics-Sim-ML/swarm_v0.0.1/wandb/run-20230103_104200-mk1uctir/files/model-best/assets\n",
      "\u001b[34m\u001b[1mwandb\u001b[0m: Adding directory to artifact (/home/oscar47/Desktop/physics/Physics-Sim-ML/swarm_v0.0.1/wandb/run-20230103_104200-mk1uctir/files/model-best)... Done. 0.0s\n"
     ]
    },
    {
     "name": "stdout",
     "output_type": "stream",
     "text": [
      "2784/2784 [==============================] - 1131s 406ms/step - loss: 0.0330 - val_loss: 0.0330\n",
      "Epoch 5/16\n",
      "2784/2784 [==============================] - 1134s 407ms/step - loss: 0.0330 - val_loss: 0.0330\n",
      "Epoch 6/16\n",
      "2784/2784 [==============================] - ETA: 0s - loss: 0.0331"
     ]
    },
    {
     "name": "stderr",
     "output_type": "stream",
     "text": [
      "WARNING:absl:Found untraced functions such as _jit_compiled_convolution_op, _jit_compiled_convolution_op, _jit_compiled_convolution_op, _jit_compiled_convolution_op, _jit_compiled_convolution_op while saving (showing 5 of 7). These functions will not be directly callable after loading.\n"
     ]
    },
    {
     "name": "stdout",
     "output_type": "stream",
     "text": [
      "INFO:tensorflow:Assets written to: /home/oscar47/Desktop/physics/Physics-Sim-ML/swarm_v0.0.1/wandb/run-20230103_104200-mk1uctir/files/model-best/assets\n"
     ]
    },
    {
     "name": "stderr",
     "output_type": "stream",
     "text": [
      "INFO:tensorflow:Assets written to: /home/oscar47/Desktop/physics/Physics-Sim-ML/swarm_v0.0.1/wandb/run-20230103_104200-mk1uctir/files/model-best/assets\n",
      "\u001b[34m\u001b[1mwandb\u001b[0m: Adding directory to artifact (/home/oscar47/Desktop/physics/Physics-Sim-ML/swarm_v0.0.1/wandb/run-20230103_104200-mk1uctir/files/model-best)... Done. 0.0s\n"
     ]
    },
    {
     "name": "stdout",
     "output_type": "stream",
     "text": [
      "2784/2784 [==============================] - 1132s 406ms/step - loss: 0.0331 - val_loss: 0.0330\n",
      "Epoch 7/16\n",
      "2784/2784 [==============================] - ETA: 0s - loss: 0.0329"
     ]
    },
    {
     "name": "stderr",
     "output_type": "stream",
     "text": [
      "WARNING:absl:Found untraced functions such as _jit_compiled_convolution_op, _jit_compiled_convolution_op, _jit_compiled_convolution_op, _jit_compiled_convolution_op, _jit_compiled_convolution_op while saving (showing 5 of 7). These functions will not be directly callable after loading.\n"
     ]
    },
    {
     "name": "stdout",
     "output_type": "stream",
     "text": [
      "INFO:tensorflow:Assets written to: /home/oscar47/Desktop/physics/Physics-Sim-ML/swarm_v0.0.1/wandb/run-20230103_104200-mk1uctir/files/model-best/assets\n"
     ]
    },
    {
     "name": "stderr",
     "output_type": "stream",
     "text": [
      "INFO:tensorflow:Assets written to: /home/oscar47/Desktop/physics/Physics-Sim-ML/swarm_v0.0.1/wandb/run-20230103_104200-mk1uctir/files/model-best/assets\n",
      "\u001b[34m\u001b[1mwandb\u001b[0m: Adding directory to artifact (/home/oscar47/Desktop/physics/Physics-Sim-ML/swarm_v0.0.1/wandb/run-20230103_104200-mk1uctir/files/model-best)... Done. 0.0s\n"
     ]
    },
    {
     "name": "stdout",
     "output_type": "stream",
     "text": [
      "2784/2784 [==============================] - 1129s 405ms/step - loss: 0.0329 - val_loss: 0.0326\n",
      "Epoch 8/16\n",
      "2784/2784 [==============================] - ETA: 0s - loss: 0.0327"
     ]
    },
    {
     "name": "stderr",
     "output_type": "stream",
     "text": [
      "WARNING:absl:Found untraced functions such as _jit_compiled_convolution_op, _jit_compiled_convolution_op, _jit_compiled_convolution_op, _jit_compiled_convolution_op, _jit_compiled_convolution_op while saving (showing 5 of 7). These functions will not be directly callable after loading.\n"
     ]
    },
    {
     "name": "stdout",
     "output_type": "stream",
     "text": [
      "INFO:tensorflow:Assets written to: /home/oscar47/Desktop/physics/Physics-Sim-ML/swarm_v0.0.1/wandb/run-20230103_104200-mk1uctir/files/model-best/assets\n"
     ]
    },
    {
     "name": "stderr",
     "output_type": "stream",
     "text": [
      "INFO:tensorflow:Assets written to: /home/oscar47/Desktop/physics/Physics-Sim-ML/swarm_v0.0.1/wandb/run-20230103_104200-mk1uctir/files/model-best/assets\n",
      "\u001b[34m\u001b[1mwandb\u001b[0m: Adding directory to artifact (/home/oscar47/Desktop/physics/Physics-Sim-ML/swarm_v0.0.1/wandb/run-20230103_104200-mk1uctir/files/model-best)... Done. 0.0s\n"
     ]
    },
    {
     "name": "stdout",
     "output_type": "stream",
     "text": [
      "2784/2784 [==============================] - 1131s 406ms/step - loss: 0.0327 - val_loss: 0.0325\n",
      "Epoch 9/16\n",
      "2784/2784 [==============================] - 1130s 406ms/step - loss: 0.0327 - val_loss: 0.0326\n",
      "Epoch 10/16\n",
      "2784/2784 [==============================] - 1130s 406ms/step - loss: 0.0327 - val_loss: 0.0326\n",
      "Epoch 11/16\n",
      "2784/2784 [==============================] - 1129s 406ms/step - loss: 0.0326 - val_loss: 0.0328\n",
      "Epoch 12/16\n",
      "2784/2784 [==============================] - 1130s 406ms/step - loss: 0.0326 - val_loss: 0.0327\n",
      "Epoch 13/16\n",
      "2784/2784 [==============================] - 1129s 406ms/step - loss: 0.0326 - val_loss: 0.0328\n",
      "Epoch 14/16\n",
      "2784/2784 [==============================] - 1130s 406ms/step - loss: 0.0326 - val_loss: 0.0328\n",
      "Epoch 15/16\n",
      "2784/2784 [==============================] - 1130s 406ms/step - loss: 0.0326 - val_loss: 0.0326\n",
      "Epoch 16/16\n",
      "2784/2784 [==============================] - 1130s 406ms/step - loss: 0.0326 - val_loss: 0.0326\n"
     ]
    },
    {
     "data": {
      "text/html": [
       "Waiting for W&B process to finish... <strong style=\"color:green\">(success).</strong>"
      ],
      "text/plain": [
       "<IPython.core.display.HTML object>"
      ]
     },
     "metadata": {},
     "output_type": "display_data"
    },
    {
     "data": {
      "text/html": [
       "<style>\n",
       "    table.wandb td:nth-child(1) { padding: 0 10px; text-align: left ; width: auto;} td:nth-child(2) {text-align: left ; width: 100%}\n",
       "    .wandb-row { display: flex; flex-direction: row; flex-wrap: wrap; justify-content: flex-start; width: 100% }\n",
       "    .wandb-col { display: flex; flex-direction: column; flex-basis: 100%; flex: 1; padding: 10px; }\n",
       "    </style>\n",
       "<div class=\"wandb-row\"><div class=\"wandb-col\"><h3>Run history:</h3><br/><table class=\"wandb\"><tr><td>epoch</td><td>▁▁▂▂▃▃▄▄▅▅▆▆▇▇██</td></tr><tr><td>loss</td><td>█▁▁▁▁▁▁▁▁▁▁▁▁▁▁▁</td></tr><tr><td>val_loss</td><td>█▅▂▂▂▂▁▁▁▁▁▁▁▁▁▁</td></tr></table><br/></div><div class=\"wandb-col\"><h3>Run summary:</h3><br/><table class=\"wandb\"><tr><td>best_epoch</td><td>7</td></tr><tr><td>best_val_loss</td><td>0.03252</td></tr><tr><td>epoch</td><td>15</td></tr><tr><td>loss</td><td>0.0326</td></tr><tr><td>val_loss</td><td>0.03258</td></tr></table><br/></div></div>"
      ],
      "text/plain": [
       "<IPython.core.display.HTML object>"
      ]
     },
     "metadata": {},
     "output_type": "display_data"
    },
    {
     "data": {
      "text/html": [
       "Synced <strong style=\"color:#cdcd00\">cerulean-sweep-3</strong>: <a href=\"https://wandb.ai/oscarscholin/PHLUID-SwarmCAE2/runs/mk1uctir\" target=\"_blank\">https://wandb.ai/oscarscholin/PHLUID-SwarmCAE2/runs/mk1uctir</a><br/>Synced 6 W&B file(s), 1 media file(s), 29 artifact file(s) and 1 other file(s)"
      ],
      "text/plain": [
       "<IPython.core.display.HTML object>"
      ]
     },
     "metadata": {},
     "output_type": "display_data"
    },
    {
     "data": {
      "text/html": [
       "Find logs at: <code>./wandb/run-20230103_104200-mk1uctir/logs</code>"
      ],
      "text/plain": [
       "<IPython.core.display.HTML object>"
      ]
     },
     "metadata": {},
     "output_type": "display_data"
    },
    {
     "name": "stderr",
     "output_type": "stream",
     "text": [
      "\u001b[34m\u001b[1mwandb\u001b[0m: Agent Starting Run: ud0xbxuo with config:\n",
      "\u001b[34m\u001b[1mwandb\u001b[0m: \tbatch_size: 128\n",
      "\u001b[34m\u001b[1mwandb\u001b[0m: \tconv2d1_size: 200\n",
      "\u001b[34m\u001b[1mwandb\u001b[0m: \tconv2d2_size: 209\n",
      "\u001b[34m\u001b[1mwandb\u001b[0m: \tconv2d3_size: 143\n",
      "\u001b[34m\u001b[1mwandb\u001b[0m: \tconvtrans1_size: 183\n",
      "\u001b[34m\u001b[1mwandb\u001b[0m: \tconvtrans2_size: 227\n",
      "\u001b[34m\u001b[1mwandb\u001b[0m: \tconvtrans3_size: 131\n",
      "\u001b[34m\u001b[1mwandb\u001b[0m: \tepochs: 19\n",
      "\u001b[34m\u001b[1mwandb\u001b[0m: \tlearning_rate: 0.0004686366872955983\n"
     ]
    },
    {
     "data": {
      "text/html": [
       "Tracking run with wandb version 0.13.7"
      ],
      "text/plain": [
       "<IPython.core.display.HTML object>"
      ]
     },
     "metadata": {},
     "output_type": "display_data"
    },
    {
     "data": {
      "text/html": [
       "Run data is saved locally in <code>/home/oscar47/Desktop/physics/Physics-Sim-ML/swarm_v0.0.1/wandb/run-20230103_154401-ud0xbxuo</code>"
      ],
      "text/plain": [
       "<IPython.core.display.HTML object>"
      ]
     },
     "metadata": {},
     "output_type": "display_data"
    },
    {
     "data": {
      "text/html": [
       "Syncing run <strong><a href=\"https://wandb.ai/oscarscholin/PHLUID-SwarmCAE2/runs/ud0xbxuo\" target=\"_blank\">whole-sweep-4</a></strong> to <a href=\"https://wandb.ai/oscarscholin/PHLUID-SwarmCAE2\" target=\"_blank\">Weights & Biases</a> (<a href=\"https://wandb.me/run\" target=\"_blank\">docs</a>)<br/>Sweep page:  <a href=\"https://wandb.ai/oscarscholin/PHLUID-SwarmCAE2/sweeps/kgt5cdfq\" target=\"_blank\">https://wandb.ai/oscarscholin/PHLUID-SwarmCAE2/sweeps/kgt5cdfq</a>"
      ],
      "text/plain": [
       "<IPython.core.display.HTML object>"
      ]
     },
     "metadata": {},
     "output_type": "display_data"
    },
    {
     "name": "stdout",
     "output_type": "stream",
     "text": [
      "Model: \"sequential\"\n",
      "_________________________________________________________________\n",
      " Layer (type)                Output Shape              Param #   \n",
      "=================================================================\n",
      " conv2d (Conv2D)             (None, 104, 104, 200)     5600      \n",
      "                                                                 \n",
      " max_pooling2d (MaxPooling2D  (None, 52, 52, 200)      0         \n",
      " )                                                               \n",
      "                                                                 \n",
      " conv2d_1 (Conv2D)           (None, 52, 52, 209)       376409    \n",
      "                                                                 \n",
      " max_pooling2d_1 (MaxPooling  (None, 26, 26, 209)      0         \n",
      " 2D)                                                             \n",
      "                                                                 \n",
      " conv2d_2 (Conv2D)           (None, 26, 26, 143)       269126    \n",
      "                                                                 \n",
      " FV (MaxPooling2D)           (None, 13, 13, 143)       0         \n",
      "                                                                 \n",
      " conv2d_transpose (Conv2DTra  (None, 13, 13, 183)      235704    \n",
      " nspose)                                                         \n",
      "                                                                 \n",
      " up_sampling2d (UpSampling2D  (None, 26, 26, 183)      0         \n",
      " )                                                               \n",
      "                                                                 \n",
      " conv2d_transpose_1 (Conv2DT  (None, 26, 26, 227)      374096    \n",
      " ranspose)                                                       \n",
      "                                                                 \n",
      " up_sampling2d_1 (UpSampling  (None, 52, 52, 227)      0         \n",
      " 2D)                                                             \n",
      "                                                                 \n",
      " conv2d_transpose_2 (Conv2DT  (None, 52, 52, 183)      374052    \n",
      " ranspose)                                                       \n",
      "                                                                 \n",
      " up_sampling2d_2 (UpSampling  (None, 104, 104, 183)    0         \n",
      " 2D)                                                             \n",
      "                                                                 \n",
      " OUT (Conv2D)                (None, 104, 104, 3)       4944      \n",
      "                                                                 \n",
      "=================================================================\n",
      "Total params: 1,639,931\n",
      "Trainable params: 1,639,931\n",
      "Non-trainable params: 0\n",
      "_________________________________________________________________\n",
      "Epoch 1/19\n",
      "696/696 [==============================] - ETA: 0s - loss: 0.0237"
     ]
    },
    {
     "name": "stderr",
     "output_type": "stream",
     "text": [
      "WARNING:absl:Found untraced functions such as _jit_compiled_convolution_op, _jit_compiled_convolution_op, _jit_compiled_convolution_op, _jit_compiled_convolution_op, _jit_compiled_convolution_op while saving (showing 5 of 7). These functions will not be directly callable after loading.\n"
     ]
    },
    {
     "name": "stdout",
     "output_type": "stream",
     "text": [
      "INFO:tensorflow:Assets written to: /home/oscar47/Desktop/physics/Physics-Sim-ML/swarm_v0.0.1/wandb/run-20230103_154401-ud0xbxuo/files/model-best/assets\n"
     ]
    },
    {
     "name": "stderr",
     "output_type": "stream",
     "text": [
      "INFO:tensorflow:Assets written to: /home/oscar47/Desktop/physics/Physics-Sim-ML/swarm_v0.0.1/wandb/run-20230103_154401-ud0xbxuo/files/model-best/assets\n",
      "\u001b[34m\u001b[1mwandb\u001b[0m: Adding directory to artifact (/home/oscar47/Desktop/physics/Physics-Sim-ML/swarm_v0.0.1/wandb/run-20230103_154401-ud0xbxuo/files/model-best)... Done. 0.0s\n"
     ]
    },
    {
     "name": "stdout",
     "output_type": "stream",
     "text": [
      "696/696 [==============================] - 1333s 2s/step - loss: 0.0237 - val_loss: 0.0221\n",
      "Epoch 2/19\n",
      "696/696 [==============================] - ETA: 0s - loss: 0.0205"
     ]
    },
    {
     "name": "stderr",
     "output_type": "stream",
     "text": [
      "WARNING:absl:Found untraced functions such as _jit_compiled_convolution_op, _jit_compiled_convolution_op, _jit_compiled_convolution_op, _jit_compiled_convolution_op, _jit_compiled_convolution_op while saving (showing 5 of 7). These functions will not be directly callable after loading.\n"
     ]
    },
    {
     "name": "stdout",
     "output_type": "stream",
     "text": [
      "INFO:tensorflow:Assets written to: /home/oscar47/Desktop/physics/Physics-Sim-ML/swarm_v0.0.1/wandb/run-20230103_154401-ud0xbxuo/files/model-best/assets\n"
     ]
    },
    {
     "name": "stderr",
     "output_type": "stream",
     "text": [
      "INFO:tensorflow:Assets written to: /home/oscar47/Desktop/physics/Physics-Sim-ML/swarm_v0.0.1/wandb/run-20230103_154401-ud0xbxuo/files/model-best/assets\n",
      "\u001b[34m\u001b[1mwandb\u001b[0m: Adding directory to artifact (/home/oscar47/Desktop/physics/Physics-Sim-ML/swarm_v0.0.1/wandb/run-20230103_154401-ud0xbxuo/files/model-best)... Done. 0.0s\n"
     ]
    },
    {
     "name": "stdout",
     "output_type": "stream",
     "text": [
      "696/696 [==============================] - 1337s 2s/step - loss: 0.0205 - val_loss: 0.0190\n",
      "Epoch 3/19\n",
      "696/696 [==============================] - ETA: 0s - loss: 0.0183"
     ]
    },
    {
     "name": "stderr",
     "output_type": "stream",
     "text": [
      "WARNING:absl:Found untraced functions such as _jit_compiled_convolution_op, _jit_compiled_convolution_op, _jit_compiled_convolution_op, _jit_compiled_convolution_op, _jit_compiled_convolution_op while saving (showing 5 of 7). These functions will not be directly callable after loading.\n"
     ]
    },
    {
     "name": "stdout",
     "output_type": "stream",
     "text": [
      "INFO:tensorflow:Assets written to: /home/oscar47/Desktop/physics/Physics-Sim-ML/swarm_v0.0.1/wandb/run-20230103_154401-ud0xbxuo/files/model-best/assets\n"
     ]
    },
    {
     "name": "stderr",
     "output_type": "stream",
     "text": [
      "INFO:tensorflow:Assets written to: /home/oscar47/Desktop/physics/Physics-Sim-ML/swarm_v0.0.1/wandb/run-20230103_154401-ud0xbxuo/files/model-best/assets\n",
      "\u001b[34m\u001b[1mwandb\u001b[0m: Adding directory to artifact (/home/oscar47/Desktop/physics/Physics-Sim-ML/swarm_v0.0.1/wandb/run-20230103_154401-ud0xbxuo/files/model-best)... Done. 0.1s\n"
     ]
    },
    {
     "name": "stdout",
     "output_type": "stream",
     "text": [
      "696/696 [==============================] - 1362s 2s/step - loss: 0.0183 - val_loss: 0.0170\n",
      "Epoch 4/19\n",
      "696/696 [==============================] - ETA: 0s - loss: 0.0161"
     ]
    },
    {
     "name": "stderr",
     "output_type": "stream",
     "text": [
      "WARNING:absl:Found untraced functions such as _jit_compiled_convolution_op, _jit_compiled_convolution_op, _jit_compiled_convolution_op, _jit_compiled_convolution_op, _jit_compiled_convolution_op while saving (showing 5 of 7). These functions will not be directly callable after loading.\n"
     ]
    },
    {
     "name": "stdout",
     "output_type": "stream",
     "text": [
      "INFO:tensorflow:Assets written to: /home/oscar47/Desktop/physics/Physics-Sim-ML/swarm_v0.0.1/wandb/run-20230103_154401-ud0xbxuo/files/model-best/assets\n"
     ]
    },
    {
     "name": "stderr",
     "output_type": "stream",
     "text": [
      "INFO:tensorflow:Assets written to: /home/oscar47/Desktop/physics/Physics-Sim-ML/swarm_v0.0.1/wandb/run-20230103_154401-ud0xbxuo/files/model-best/assets\n",
      "\u001b[34m\u001b[1mwandb\u001b[0m: Adding directory to artifact (/home/oscar47/Desktop/physics/Physics-Sim-ML/swarm_v0.0.1/wandb/run-20230103_154401-ud0xbxuo/files/model-best)... Done. 0.0s\n"
     ]
    },
    {
     "name": "stdout",
     "output_type": "stream",
     "text": [
      "696/696 [==============================] - 1354s 2s/step - loss: 0.0161 - val_loss: 0.0153\n",
      "Epoch 5/19\n",
      "696/696 [==============================] - ETA: 0s - loss: 0.0146"
     ]
    },
    {
     "name": "stderr",
     "output_type": "stream",
     "text": [
      "WARNING:absl:Found untraced functions such as _jit_compiled_convolution_op, _jit_compiled_convolution_op, _jit_compiled_convolution_op, _jit_compiled_convolution_op, _jit_compiled_convolution_op while saving (showing 5 of 7). These functions will not be directly callable after loading.\n"
     ]
    },
    {
     "name": "stdout",
     "output_type": "stream",
     "text": [
      "INFO:tensorflow:Assets written to: /home/oscar47/Desktop/physics/Physics-Sim-ML/swarm_v0.0.1/wandb/run-20230103_154401-ud0xbxuo/files/model-best/assets\n"
     ]
    },
    {
     "name": "stderr",
     "output_type": "stream",
     "text": [
      "INFO:tensorflow:Assets written to: /home/oscar47/Desktop/physics/Physics-Sim-ML/swarm_v0.0.1/wandb/run-20230103_154401-ud0xbxuo/files/model-best/assets\n",
      "\u001b[34m\u001b[1mwandb\u001b[0m: Adding directory to artifact (/home/oscar47/Desktop/physics/Physics-Sim-ML/swarm_v0.0.1/wandb/run-20230103_154401-ud0xbxuo/files/model-best)... Done. 0.1s\n"
     ]
    },
    {
     "name": "stdout",
     "output_type": "stream",
     "text": [
      "696/696 [==============================] - 1369s 2s/step - loss: 0.0146 - val_loss: 0.0141\n",
      "Epoch 6/19\n",
      "696/696 [==============================] - 1394s 2s/step - loss: 0.0221 - val_loss: 0.0208\n",
      "Epoch 7/19\n",
      "696/696 [==============================] - 1396s 2s/step - loss: 0.0192 - val_loss: 0.0178\n",
      "Epoch 8/19\n",
      "696/696 [==============================] - 1344s 2s/step - loss: 0.0170 - val_loss: 0.0162\n",
      "Epoch 9/19\n",
      "696/696 [==============================] - 1340s 2s/step - loss: 0.0157 - val_loss: 0.0152\n",
      "Epoch 10/19\n",
      "696/696 [==============================] - 1341s 2s/step - loss: 0.0148 - val_loss: 0.0145\n",
      "Epoch 11/19\n",
      "696/696 [==============================] - ETA: 0s - loss: 0.0142"
     ]
    },
    {
     "name": "stderr",
     "output_type": "stream",
     "text": [
      "WARNING:absl:Found untraced functions such as _jit_compiled_convolution_op, _jit_compiled_convolution_op, _jit_compiled_convolution_op, _jit_compiled_convolution_op, _jit_compiled_convolution_op while saving (showing 5 of 7). These functions will not be directly callable after loading.\n"
     ]
    },
    {
     "name": "stdout",
     "output_type": "stream",
     "text": [
      "INFO:tensorflow:Assets written to: /home/oscar47/Desktop/physics/Physics-Sim-ML/swarm_v0.0.1/wandb/run-20230103_154401-ud0xbxuo/files/model-best/assets\n"
     ]
    },
    {
     "name": "stderr",
     "output_type": "stream",
     "text": [
      "INFO:tensorflow:Assets written to: /home/oscar47/Desktop/physics/Physics-Sim-ML/swarm_v0.0.1/wandb/run-20230103_154401-ud0xbxuo/files/model-best/assets\n",
      "\u001b[34m\u001b[1mwandb\u001b[0m: Adding directory to artifact (/home/oscar47/Desktop/physics/Physics-Sim-ML/swarm_v0.0.1/wandb/run-20230103_154401-ud0xbxuo/files/model-best)... Done. 0.1s\n"
     ]
    },
    {
     "name": "stdout",
     "output_type": "stream",
     "text": [
      "696/696 [==============================] - 1341s 2s/step - loss: 0.0142 - val_loss: 0.0139\n",
      "Epoch 12/19\n",
      "696/696 [==============================] - ETA: 0s - loss: 0.0141"
     ]
    },
    {
     "name": "stderr",
     "output_type": "stream",
     "text": [
      "WARNING:absl:Found untraced functions such as _jit_compiled_convolution_op, _jit_compiled_convolution_op, _jit_compiled_convolution_op, _jit_compiled_convolution_op, _jit_compiled_convolution_op while saving (showing 5 of 7). These functions will not be directly callable after loading.\n"
     ]
    },
    {
     "name": "stdout",
     "output_type": "stream",
     "text": [
      "INFO:tensorflow:Assets written to: /home/oscar47/Desktop/physics/Physics-Sim-ML/swarm_v0.0.1/wandb/run-20230103_154401-ud0xbxuo/files/model-best/assets\n"
     ]
    },
    {
     "name": "stderr",
     "output_type": "stream",
     "text": [
      "INFO:tensorflow:Assets written to: /home/oscar47/Desktop/physics/Physics-Sim-ML/swarm_v0.0.1/wandb/run-20230103_154401-ud0xbxuo/files/model-best/assets\n",
      "\u001b[34m\u001b[1mwandb\u001b[0m: Adding directory to artifact (/home/oscar47/Desktop/physics/Physics-Sim-ML/swarm_v0.0.1/wandb/run-20230103_154401-ud0xbxuo/files/model-best)... Done. 0.1s\n"
     ]
    },
    {
     "name": "stdout",
     "output_type": "stream",
     "text": [
      "696/696 [==============================] - 1342s 2s/step - loss: 0.0141 - val_loss: 0.0136\n",
      "Epoch 13/19\n",
      "696/696 [==============================] - ETA: 0s - loss: 0.0134"
     ]
    },
    {
     "name": "stderr",
     "output_type": "stream",
     "text": [
      "WARNING:absl:Found untraced functions such as _jit_compiled_convolution_op, _jit_compiled_convolution_op, _jit_compiled_convolution_op, _jit_compiled_convolution_op, _jit_compiled_convolution_op while saving (showing 5 of 7). These functions will not be directly callable after loading.\n"
     ]
    },
    {
     "name": "stdout",
     "output_type": "stream",
     "text": [
      "INFO:tensorflow:Assets written to: /home/oscar47/Desktop/physics/Physics-Sim-ML/swarm_v0.0.1/wandb/run-20230103_154401-ud0xbxuo/files/model-best/assets\n"
     ]
    },
    {
     "name": "stderr",
     "output_type": "stream",
     "text": [
      "INFO:tensorflow:Assets written to: /home/oscar47/Desktop/physics/Physics-Sim-ML/swarm_v0.0.1/wandb/run-20230103_154401-ud0xbxuo/files/model-best/assets\n",
      "\u001b[34m\u001b[1mwandb\u001b[0m: Adding directory to artifact (/home/oscar47/Desktop/physics/Physics-Sim-ML/swarm_v0.0.1/wandb/run-20230103_154401-ud0xbxuo/files/model-best)... Done. 0.1s\n"
     ]
    },
    {
     "name": "stdout",
     "output_type": "stream",
     "text": [
      "696/696 [==============================] - 1343s 2s/step - loss: 0.0134 - val_loss: 0.0132\n",
      "Epoch 14/19\n",
      "696/696 [==============================] - ETA: 0s - loss: 0.0131"
     ]
    },
    {
     "name": "stderr",
     "output_type": "stream",
     "text": [
      "WARNING:absl:Found untraced functions such as _jit_compiled_convolution_op, _jit_compiled_convolution_op, _jit_compiled_convolution_op, _jit_compiled_convolution_op, _jit_compiled_convolution_op while saving (showing 5 of 7). These functions will not be directly callable after loading.\n"
     ]
    },
    {
     "name": "stdout",
     "output_type": "stream",
     "text": [
      "INFO:tensorflow:Assets written to: /home/oscar47/Desktop/physics/Physics-Sim-ML/swarm_v0.0.1/wandb/run-20230103_154401-ud0xbxuo/files/model-best/assets\n"
     ]
    },
    {
     "name": "stderr",
     "output_type": "stream",
     "text": [
      "INFO:tensorflow:Assets written to: /home/oscar47/Desktop/physics/Physics-Sim-ML/swarm_v0.0.1/wandb/run-20230103_154401-ud0xbxuo/files/model-best/assets\n",
      "\u001b[34m\u001b[1mwandb\u001b[0m: Adding directory to artifact (/home/oscar47/Desktop/physics/Physics-Sim-ML/swarm_v0.0.1/wandb/run-20230103_154401-ud0xbxuo/files/model-best)... Done. 0.0s\n"
     ]
    },
    {
     "name": "stdout",
     "output_type": "stream",
     "text": [
      "696/696 [==============================] - 1341s 2s/step - loss: 0.0131 - val_loss: 0.0129\n",
      "Epoch 15/19\n",
      "696/696 [==============================] - ETA: 0s - loss: 0.0127"
     ]
    },
    {
     "name": "stderr",
     "output_type": "stream",
     "text": [
      "WARNING:absl:Found untraced functions such as _jit_compiled_convolution_op, _jit_compiled_convolution_op, _jit_compiled_convolution_op, _jit_compiled_convolution_op, _jit_compiled_convolution_op while saving (showing 5 of 7). These functions will not be directly callable after loading.\n"
     ]
    },
    {
     "name": "stdout",
     "output_type": "stream",
     "text": [
      "INFO:tensorflow:Assets written to: /home/oscar47/Desktop/physics/Physics-Sim-ML/swarm_v0.0.1/wandb/run-20230103_154401-ud0xbxuo/files/model-best/assets\n"
     ]
    },
    {
     "name": "stderr",
     "output_type": "stream",
     "text": [
      "INFO:tensorflow:Assets written to: /home/oscar47/Desktop/physics/Physics-Sim-ML/swarm_v0.0.1/wandb/run-20230103_154401-ud0xbxuo/files/model-best/assets\n",
      "\u001b[34m\u001b[1mwandb\u001b[0m: Adding directory to artifact (/home/oscar47/Desktop/physics/Physics-Sim-ML/swarm_v0.0.1/wandb/run-20230103_154401-ud0xbxuo/files/model-best)... Done. 0.0s\n"
     ]
    },
    {
     "name": "stdout",
     "output_type": "stream",
     "text": [
      "696/696 [==============================] - 1343s 2s/step - loss: 0.0127 - val_loss: 0.0125\n",
      "Epoch 16/19\n",
      "696/696 [==============================] - ETA: 0s - loss: 0.0125"
     ]
    },
    {
     "name": "stderr",
     "output_type": "stream",
     "text": [
      "WARNING:absl:Found untraced functions such as _jit_compiled_convolution_op, _jit_compiled_convolution_op, _jit_compiled_convolution_op, _jit_compiled_convolution_op, _jit_compiled_convolution_op while saving (showing 5 of 7). These functions will not be directly callable after loading.\n"
     ]
    },
    {
     "name": "stdout",
     "output_type": "stream",
     "text": [
      "INFO:tensorflow:Assets written to: /home/oscar47/Desktop/physics/Physics-Sim-ML/swarm_v0.0.1/wandb/run-20230103_154401-ud0xbxuo/files/model-best/assets\n"
     ]
    },
    {
     "name": "stderr",
     "output_type": "stream",
     "text": [
      "INFO:tensorflow:Assets written to: /home/oscar47/Desktop/physics/Physics-Sim-ML/swarm_v0.0.1/wandb/run-20230103_154401-ud0xbxuo/files/model-best/assets\n",
      "\u001b[34m\u001b[1mwandb\u001b[0m: Adding directory to artifact (/home/oscar47/Desktop/physics/Physics-Sim-ML/swarm_v0.0.1/wandb/run-20230103_154401-ud0xbxuo/files/model-best)... Done. 0.0s\n"
     ]
    },
    {
     "name": "stdout",
     "output_type": "stream",
     "text": [
      "696/696 [==============================] - 1342s 2s/step - loss: 0.0125 - val_loss: 0.0122\n",
      "Epoch 17/19\n",
      "696/696 [==============================] - 1340s 2s/step - loss: 0.0121 - val_loss: 0.0122\n",
      "Epoch 18/19\n",
      "696/696 [==============================] - ETA: 0s - loss: 0.0117"
     ]
    },
    {
     "name": "stderr",
     "output_type": "stream",
     "text": [
      "WARNING:absl:Found untraced functions such as _jit_compiled_convolution_op, _jit_compiled_convolution_op, _jit_compiled_convolution_op, _jit_compiled_convolution_op, _jit_compiled_convolution_op while saving (showing 5 of 7). These functions will not be directly callable after loading.\n"
     ]
    },
    {
     "name": "stdout",
     "output_type": "stream",
     "text": [
      "INFO:tensorflow:Assets written to: /home/oscar47/Desktop/physics/Physics-Sim-ML/swarm_v0.0.1/wandb/run-20230103_154401-ud0xbxuo/files/model-best/assets\n"
     ]
    },
    {
     "name": "stderr",
     "output_type": "stream",
     "text": [
      "INFO:tensorflow:Assets written to: /home/oscar47/Desktop/physics/Physics-Sim-ML/swarm_v0.0.1/wandb/run-20230103_154401-ud0xbxuo/files/model-best/assets\n",
      "\u001b[34m\u001b[1mwandb\u001b[0m: Adding directory to artifact (/home/oscar47/Desktop/physics/Physics-Sim-ML/swarm_v0.0.1/wandb/run-20230103_154401-ud0xbxuo/files/model-best)... Done. 0.0s\n"
     ]
    },
    {
     "name": "stdout",
     "output_type": "stream",
     "text": [
      "696/696 [==============================] - 1341s 2s/step - loss: 0.0117 - val_loss: 0.0114\n",
      "Epoch 19/19\n",
      "696/696 [==============================] - ETA: 0s - loss: 0.0113"
     ]
    },
    {
     "name": "stderr",
     "output_type": "stream",
     "text": [
      "WARNING:absl:Found untraced functions such as _jit_compiled_convolution_op, _jit_compiled_convolution_op, _jit_compiled_convolution_op, _jit_compiled_convolution_op, _jit_compiled_convolution_op while saving (showing 5 of 7). These functions will not be directly callable after loading.\n"
     ]
    },
    {
     "name": "stdout",
     "output_type": "stream",
     "text": [
      "INFO:tensorflow:Assets written to: /home/oscar47/Desktop/physics/Physics-Sim-ML/swarm_v0.0.1/wandb/run-20230103_154401-ud0xbxuo/files/model-best/assets\n"
     ]
    },
    {
     "name": "stderr",
     "output_type": "stream",
     "text": [
      "INFO:tensorflow:Assets written to: /home/oscar47/Desktop/physics/Physics-Sim-ML/swarm_v0.0.1/wandb/run-20230103_154401-ud0xbxuo/files/model-best/assets\n",
      "\u001b[34m\u001b[1mwandb\u001b[0m: Adding directory to artifact (/home/oscar47/Desktop/physics/Physics-Sim-ML/swarm_v0.0.1/wandb/run-20230103_154401-ud0xbxuo/files/model-best)... Done. 0.0s\n"
     ]
    },
    {
     "name": "stdout",
     "output_type": "stream",
     "text": [
      "696/696 [==============================] - 1343s 2s/step - loss: 0.0113 - val_loss: 0.0111\n"
     ]
    },
    {
     "data": {
      "text/html": [
       "Waiting for W&B process to finish... <strong style=\"color:green\">(success).</strong>"
      ],
      "text/plain": [
       "<IPython.core.display.HTML object>"
      ]
     },
     "metadata": {},
     "output_type": "display_data"
    },
    {
     "data": {
      "text/html": [
       "<style>\n",
       "    table.wandb td:nth-child(1) { padding: 0 10px; text-align: left ; width: auto;} td:nth-child(2) {text-align: left ; width: 100%}\n",
       "    .wandb-row { display: flex; flex-direction: row; flex-wrap: wrap; justify-content: flex-start; width: 100% }\n",
       "    .wandb-col { display: flex; flex-direction: column; flex-basis: 100%; flex: 1; padding: 10px; }\n",
       "    </style>\n",
       "<div class=\"wandb-row\"><div class=\"wandb-col\"><h3>Run history:</h3><br/><table class=\"wandb\"><tr><td>epoch</td><td>▁▁▂▂▃▃▃▄▄▅▅▅▆▆▆▇▇██</td></tr><tr><td>loss</td><td>█▆▅▄▃▇▅▄▃▃▃▃▂▂▂▂▁▁▁</td></tr><tr><td>val_loss</td><td>█▆▅▄▃▇▅▄▄▃▃▃▂▂▂▂▂▁▁</td></tr></table><br/></div><div class=\"wandb-col\"><h3>Run summary:</h3><br/><table class=\"wandb\"><tr><td>best_epoch</td><td>18</td></tr><tr><td>best_val_loss</td><td>0.01114</td></tr><tr><td>epoch</td><td>18</td></tr><tr><td>loss</td><td>0.01134</td></tr><tr><td>val_loss</td><td>0.01114</td></tr></table><br/></div></div>"
      ],
      "text/plain": [
       "<IPython.core.display.HTML object>"
      ]
     },
     "metadata": {},
     "output_type": "display_data"
    },
    {
     "data": {
      "text/html": [
       "Synced <strong style=\"color:#cdcd00\">whole-sweep-4</strong>: <a href=\"https://wandb.ai/oscarscholin/PHLUID-SwarmCAE2/runs/ud0xbxuo\" target=\"_blank\">https://wandb.ai/oscarscholin/PHLUID-SwarmCAE2/runs/ud0xbxuo</a><br/>Synced 6 W&B file(s), 1 media file(s), 53 artifact file(s) and 1 other file(s)"
      ],
      "text/plain": [
       "<IPython.core.display.HTML object>"
      ]
     },
     "metadata": {},
     "output_type": "display_data"
    },
    {
     "data": {
      "text/html": [
       "Find logs at: <code>./wandb/run-20230103_154401-ud0xbxuo/logs</code>"
      ],
      "text/plain": [
       "<IPython.core.display.HTML object>"
      ]
     },
     "metadata": {},
     "output_type": "display_data"
    },
    {
     "name": "stderr",
     "output_type": "stream",
     "text": [
      "\u001b[34m\u001b[1mwandb\u001b[0m: Agent Starting Run: lxne9tg6 with config:\n",
      "\u001b[34m\u001b[1mwandb\u001b[0m: \tbatch_size: 160\n",
      "\u001b[34m\u001b[1mwandb\u001b[0m: \tconv2d1_size: 162\n",
      "\u001b[34m\u001b[1mwandb\u001b[0m: \tconv2d2_size: 233\n",
      "\u001b[34m\u001b[1mwandb\u001b[0m: \tconv2d3_size: 234\n",
      "\u001b[34m\u001b[1mwandb\u001b[0m: \tconvtrans1_size: 223\n",
      "\u001b[34m\u001b[1mwandb\u001b[0m: \tconvtrans2_size: 92\n",
      "\u001b[34m\u001b[1mwandb\u001b[0m: \tconvtrans3_size: 172\n",
      "\u001b[34m\u001b[1mwandb\u001b[0m: \tepochs: 16\n",
      "\u001b[34m\u001b[1mwandb\u001b[0m: \tlearning_rate: 0.03428757073675747\n"
     ]
    },
    {
     "data": {
      "text/html": [
       "Tracking run with wandb version 0.13.7"
      ],
      "text/plain": [
       "<IPython.core.display.HTML object>"
      ]
     },
     "metadata": {},
     "output_type": "display_data"
    },
    {
     "data": {
      "text/html": [
       "Run data is saved locally in <code>/home/oscar47/Desktop/physics/Physics-Sim-ML/swarm_v0.0.1/wandb/run-20230103_225215-lxne9tg6</code>"
      ],
      "text/plain": [
       "<IPython.core.display.HTML object>"
      ]
     },
     "metadata": {},
     "output_type": "display_data"
    },
    {
     "data": {
      "text/html": [
       "Syncing run <strong><a href=\"https://wandb.ai/oscarscholin/PHLUID-SwarmCAE2/runs/lxne9tg6\" target=\"_blank\">prime-sweep-5</a></strong> to <a href=\"https://wandb.ai/oscarscholin/PHLUID-SwarmCAE2\" target=\"_blank\">Weights & Biases</a> (<a href=\"https://wandb.me/run\" target=\"_blank\">docs</a>)<br/>Sweep page:  <a href=\"https://wandb.ai/oscarscholin/PHLUID-SwarmCAE2/sweeps/kgt5cdfq\" target=\"_blank\">https://wandb.ai/oscarscholin/PHLUID-SwarmCAE2/sweeps/kgt5cdfq</a>"
      ],
      "text/plain": [
       "<IPython.core.display.HTML object>"
      ]
     },
     "metadata": {},
     "output_type": "display_data"
    },
    {
     "name": "stdout",
     "output_type": "stream",
     "text": [
      "Model: \"sequential\"\n",
      "_________________________________________________________________\n",
      " Layer (type)                Output Shape              Param #   \n",
      "=================================================================\n",
      " conv2d (Conv2D)             (None, 104, 104, 162)     4536      \n",
      "                                                                 \n",
      " max_pooling2d (MaxPooling2D  (None, 52, 52, 162)      0         \n",
      " )                                                               \n",
      "                                                                 \n",
      " conv2d_1 (Conv2D)           (None, 52, 52, 233)       339947    \n",
      "                                                                 \n",
      " max_pooling2d_1 (MaxPooling  (None, 26, 26, 233)      0         \n",
      " 2D)                                                             \n",
      "                                                                 \n",
      " conv2d_2 (Conv2D)           (None, 26, 26, 234)       490932    \n",
      "                                                                 \n",
      " FV (MaxPooling2D)           (None, 13, 13, 234)       0         \n",
      "                                                                 \n",
      " conv2d_transpose (Conv2DTra  (None, 13, 13, 223)      469861    \n",
      " nspose)                                                         \n",
      "                                                                 \n",
      " up_sampling2d (UpSampling2D  (None, 26, 26, 223)      0         \n",
      " )                                                               \n",
      "                                                                 \n",
      " conv2d_transpose_1 (Conv2DT  (None, 26, 26, 92)       184736    \n",
      " ranspose)                                                       \n",
      "                                                                 \n",
      " up_sampling2d_1 (UpSampling  (None, 52, 52, 92)       0         \n",
      " 2D)                                                             \n",
      "                                                                 \n",
      " conv2d_transpose_2 (Conv2DT  (None, 52, 52, 223)      184867    \n",
      " ranspose)                                                       \n",
      "                                                                 \n",
      " up_sampling2d_2 (UpSampling  (None, 104, 104, 223)    0         \n",
      " 2D)                                                             \n",
      "                                                                 \n",
      " OUT (Conv2D)                (None, 104, 104, 3)       6024      \n",
      "                                                                 \n",
      "=================================================================\n",
      "Total params: 1,680,903\n",
      "Trainable params: 1,680,903\n",
      "Non-trainable params: 0\n",
      "_________________________________________________________________\n",
      "Epoch 1/16\n",
      "557/557 [==============================] - ETA: 0s - loss: 281657868288.0000"
     ]
    },
    {
     "name": "stderr",
     "output_type": "stream",
     "text": [
      "WARNING:absl:Found untraced functions such as _jit_compiled_convolution_op, _jit_compiled_convolution_op, _jit_compiled_convolution_op, _jit_compiled_convolution_op, _jit_compiled_convolution_op while saving (showing 5 of 7). These functions will not be directly callable after loading.\n"
     ]
    },
    {
     "name": "stdout",
     "output_type": "stream",
     "text": [
      "INFO:tensorflow:Assets written to: /home/oscar47/Desktop/physics/Physics-Sim-ML/swarm_v0.0.1/wandb/run-20230103_225215-lxne9tg6/files/model-best/assets\n"
     ]
    },
    {
     "name": "stderr",
     "output_type": "stream",
     "text": [
      "INFO:tensorflow:Assets written to: /home/oscar47/Desktop/physics/Physics-Sim-ML/swarm_v0.0.1/wandb/run-20230103_225215-lxne9tg6/files/model-best/assets\n",
      "\u001b[34m\u001b[1mwandb\u001b[0m: Adding directory to artifact (/home/oscar47/Desktop/physics/Physics-Sim-ML/swarm_v0.0.1/wandb/run-20230103_225215-lxne9tg6/files/model-best)... Done. 0.0s\n"
     ]
    },
    {
     "name": "stdout",
     "output_type": "stream",
     "text": [
      "557/557 [==============================] - 1171s 2s/step - loss: 281657868288.0000 - val_loss: 0.0325\n",
      "Epoch 2/16\n",
      "557/557 [==============================] - ETA: 0s - loss: 0.0325"
     ]
    },
    {
     "name": "stderr",
     "output_type": "stream",
     "text": [
      "WARNING:absl:Found untraced functions such as _jit_compiled_convolution_op, _jit_compiled_convolution_op, _jit_compiled_convolution_op, _jit_compiled_convolution_op, _jit_compiled_convolution_op while saving (showing 5 of 7). These functions will not be directly callable after loading.\n"
     ]
    },
    {
     "name": "stdout",
     "output_type": "stream",
     "text": [
      "INFO:tensorflow:Assets written to: /home/oscar47/Desktop/physics/Physics-Sim-ML/swarm_v0.0.1/wandb/run-20230103_225215-lxne9tg6/files/model-best/assets\n"
     ]
    },
    {
     "name": "stderr",
     "output_type": "stream",
     "text": [
      "INFO:tensorflow:Assets written to: /home/oscar47/Desktop/physics/Physics-Sim-ML/swarm_v0.0.1/wandb/run-20230103_225215-lxne9tg6/files/model-best/assets\n",
      "\u001b[34m\u001b[1mwandb\u001b[0m: Adding directory to artifact (/home/oscar47/Desktop/physics/Physics-Sim-ML/swarm_v0.0.1/wandb/run-20230103_225215-lxne9tg6/files/model-best)... Done. 0.1s\n"
     ]
    },
    {
     "name": "stdout",
     "output_type": "stream",
     "text": [
      "557/557 [==============================] - 1169s 2s/step - loss: 0.0325 - val_loss: 0.0325\n",
      "Epoch 3/16\n",
      "557/557 [==============================] - ETA: 0s - loss: 0.0325"
     ]
    },
    {
     "name": "stderr",
     "output_type": "stream",
     "text": [
      "WARNING:absl:Found untraced functions such as _jit_compiled_convolution_op, _jit_compiled_convolution_op, _jit_compiled_convolution_op, _jit_compiled_convolution_op, _jit_compiled_convolution_op while saving (showing 5 of 7). These functions will not be directly callable after loading.\n"
     ]
    },
    {
     "name": "stdout",
     "output_type": "stream",
     "text": [
      "INFO:tensorflow:Assets written to: /home/oscar47/Desktop/physics/Physics-Sim-ML/swarm_v0.0.1/wandb/run-20230103_225215-lxne9tg6/files/model-best/assets\n"
     ]
    },
    {
     "name": "stderr",
     "output_type": "stream",
     "text": [
      "INFO:tensorflow:Assets written to: /home/oscar47/Desktop/physics/Physics-Sim-ML/swarm_v0.0.1/wandb/run-20230103_225215-lxne9tg6/files/model-best/assets\n",
      "\u001b[34m\u001b[1mwandb\u001b[0m: Adding directory to artifact (/home/oscar47/Desktop/physics/Physics-Sim-ML/swarm_v0.0.1/wandb/run-20230103_225215-lxne9tg6/files/model-best)... Done. 0.0s\n"
     ]
    },
    {
     "name": "stdout",
     "output_type": "stream",
     "text": [
      "557/557 [==============================] - 1172s 2s/step - loss: 0.0325 - val_loss: 0.0325\n",
      "Epoch 4/16\n",
      "557/557 [==============================] - ETA: 0s - loss: 0.0325"
     ]
    },
    {
     "name": "stderr",
     "output_type": "stream",
     "text": [
      "WARNING:absl:Found untraced functions such as _jit_compiled_convolution_op, _jit_compiled_convolution_op, _jit_compiled_convolution_op, _jit_compiled_convolution_op, _jit_compiled_convolution_op while saving (showing 5 of 7). These functions will not be directly callable after loading.\n"
     ]
    },
    {
     "name": "stdout",
     "output_type": "stream",
     "text": [
      "INFO:tensorflow:Assets written to: /home/oscar47/Desktop/physics/Physics-Sim-ML/swarm_v0.0.1/wandb/run-20230103_225215-lxne9tg6/files/model-best/assets\n"
     ]
    },
    {
     "name": "stderr",
     "output_type": "stream",
     "text": [
      "INFO:tensorflow:Assets written to: /home/oscar47/Desktop/physics/Physics-Sim-ML/swarm_v0.0.1/wandb/run-20230103_225215-lxne9tg6/files/model-best/assets\n",
      "\u001b[34m\u001b[1mwandb\u001b[0m: Adding directory to artifact (/home/oscar47/Desktop/physics/Physics-Sim-ML/swarm_v0.0.1/wandb/run-20230103_225215-lxne9tg6/files/model-best)... Done. 0.1s\n"
     ]
    },
    {
     "name": "stdout",
     "output_type": "stream",
     "text": [
      "557/557 [==============================] - 1181s 2s/step - loss: 0.0325 - val_loss: 0.0325\n",
      "Epoch 5/16\n",
      "557/557 [==============================] - 1177s 2s/step - loss: 0.0325 - val_loss: 0.0325\n",
      "Epoch 6/16\n",
      "557/557 [==============================] - 1175s 2s/step - loss: 0.0325 - val_loss: 0.0325\n",
      "Epoch 7/16\n",
      "557/557 [==============================] - 1167s 2s/step - loss: 0.0326 - val_loss: 0.0325\n",
      "Epoch 8/16\n",
      " 67/557 [==>...........................] - ETA: 16:06 - loss: 0.0325"
     ]
    },
    {
     "name": "stderr",
     "output_type": "stream",
     "text": [
      "\u001b[34m\u001b[1mwandb\u001b[0m: Ctrl + C detected. Stopping sweep.\n"
     ]
    },
    {
     "name": "stdout",
     "output_type": "stream",
     "text": [
      "Error in callback <function _WandbInit._pause_backend at 0x7f2667466e50> (for post_run_cell):\n"
     ]
    },
    {
     "ename": "BrokenPipeError",
     "evalue": "[Errno 32] Broken pipe",
     "output_type": "error",
     "traceback": [
      "\u001b[0;31m---------------------------------------------------------------------------\u001b[0m",
      "\u001b[0;31mBrokenPipeError\u001b[0m                           Traceback (most recent call last)",
      "File \u001b[0;32m~/miniconda3/envs/tf2/lib/python3.9/site-packages/backcall/backcall.py:104\u001b[0m, in \u001b[0;36mcallback_prototype.<locals>.adapt.<locals>.adapted\u001b[0;34m(*args, **kwargs)\u001b[0m\n\u001b[1;32m    102\u001b[0m                 kwargs\u001b[39m.\u001b[39mpop(name)\n\u001b[1;32m    103\u001b[0m \u001b[39m#            print(args, kwargs, unmatched_pos, cut_positional, unmatched_kw)\u001b[39;00m\n\u001b[0;32m--> 104\u001b[0m             \u001b[39mreturn\u001b[39;00m callback(\u001b[39m*\u001b[39;49margs, \u001b[39m*\u001b[39;49m\u001b[39m*\u001b[39;49mkwargs)\n",
      "File \u001b[0;32m~/miniconda3/envs/tf2/lib/python3.9/site-packages/wandb/sdk/wandb_init.py:394\u001b[0m, in \u001b[0;36m_WandbInit._pause_backend\u001b[0;34m(self)\u001b[0m\n\u001b[1;32m    392\u001b[0m     res \u001b[39m=\u001b[39m \u001b[39mself\u001b[39m\u001b[39m.\u001b[39mrun\u001b[39m.\u001b[39mlog_code(root\u001b[39m=\u001b[39m\u001b[39mNone\u001b[39;00m)\n\u001b[1;32m    393\u001b[0m     logger\u001b[39m.\u001b[39minfo(\u001b[39m\"\u001b[39m\u001b[39msaved code: \u001b[39m\u001b[39m%s\u001b[39;00m\u001b[39m\"\u001b[39m, res)\n\u001b[0;32m--> 394\u001b[0m \u001b[39mself\u001b[39;49m\u001b[39m.\u001b[39;49mbackend\u001b[39m.\u001b[39;49minterface\u001b[39m.\u001b[39;49mpublish_pause()\n",
      "File \u001b[0;32m~/miniconda3/envs/tf2/lib/python3.9/site-packages/wandb/sdk/interface/interface.py:642\u001b[0m, in \u001b[0;36mInterfaceBase.publish_pause\u001b[0;34m(self)\u001b[0m\n\u001b[1;32m    640\u001b[0m \u001b[39mdef\u001b[39;00m \u001b[39mpublish_pause\u001b[39m(\u001b[39mself\u001b[39m) \u001b[39m-\u001b[39m\u001b[39m>\u001b[39m \u001b[39mNone\u001b[39;00m:\n\u001b[1;32m    641\u001b[0m     pause \u001b[39m=\u001b[39m pb\u001b[39m.\u001b[39mPauseRequest()\n\u001b[0;32m--> 642\u001b[0m     \u001b[39mself\u001b[39;49m\u001b[39m.\u001b[39;49m_publish_pause(pause)\n",
      "File \u001b[0;32m~/miniconda3/envs/tf2/lib/python3.9/site-packages/wandb/sdk/interface/interface_shared.py:310\u001b[0m, in \u001b[0;36mInterfaceShared._publish_pause\u001b[0;34m(self, pause)\u001b[0m\n\u001b[1;32m    308\u001b[0m \u001b[39mdef\u001b[39;00m \u001b[39m_publish_pause\u001b[39m(\u001b[39mself\u001b[39m, pause: pb\u001b[39m.\u001b[39mPauseRequest) \u001b[39m-\u001b[39m\u001b[39m>\u001b[39m \u001b[39mNone\u001b[39;00m:\n\u001b[1;32m    309\u001b[0m     rec \u001b[39m=\u001b[39m \u001b[39mself\u001b[39m\u001b[39m.\u001b[39m_make_request(pause\u001b[39m=\u001b[39mpause)\n\u001b[0;32m--> 310\u001b[0m     \u001b[39mself\u001b[39;49m\u001b[39m.\u001b[39;49m_publish(rec)\n",
      "File \u001b[0;32m~/miniconda3/envs/tf2/lib/python3.9/site-packages/wandb/sdk/interface/interface_sock.py:51\u001b[0m, in \u001b[0;36mInterfaceSock._publish\u001b[0;34m(self, record, local)\u001b[0m\n\u001b[1;32m     49\u001b[0m \u001b[39mdef\u001b[39;00m \u001b[39m_publish\u001b[39m(\u001b[39mself\u001b[39m, record: \u001b[39m\"\u001b[39m\u001b[39mpb.Record\u001b[39m\u001b[39m\"\u001b[39m, local: Optional[\u001b[39mbool\u001b[39m] \u001b[39m=\u001b[39m \u001b[39mNone\u001b[39;00m) \u001b[39m-\u001b[39m\u001b[39m>\u001b[39m \u001b[39mNone\u001b[39;00m:\n\u001b[1;32m     50\u001b[0m     \u001b[39mself\u001b[39m\u001b[39m.\u001b[39m_assign(record)\n\u001b[0;32m---> 51\u001b[0m     \u001b[39mself\u001b[39;49m\u001b[39m.\u001b[39;49m_sock_client\u001b[39m.\u001b[39;49msend_record_publish(record)\n",
      "File \u001b[0;32m~/miniconda3/envs/tf2/lib/python3.9/site-packages/wandb/sdk/lib/sock_client.py:221\u001b[0m, in \u001b[0;36mSockClient.send_record_publish\u001b[0;34m(self, record)\u001b[0m\n\u001b[1;32m    219\u001b[0m server_req \u001b[39m=\u001b[39m spb\u001b[39m.\u001b[39mServerRequest()\n\u001b[1;32m    220\u001b[0m server_req\u001b[39m.\u001b[39mrecord_publish\u001b[39m.\u001b[39mCopyFrom(record)\n\u001b[0;32m--> 221\u001b[0m \u001b[39mself\u001b[39;49m\u001b[39m.\u001b[39;49msend_server_request(server_req)\n",
      "File \u001b[0;32m~/miniconda3/envs/tf2/lib/python3.9/site-packages/wandb/sdk/lib/sock_client.py:155\u001b[0m, in \u001b[0;36mSockClient.send_server_request\u001b[0;34m(self, msg)\u001b[0m\n\u001b[1;32m    154\u001b[0m \u001b[39mdef\u001b[39;00m \u001b[39msend_server_request\u001b[39m(\u001b[39mself\u001b[39m, msg: Any) \u001b[39m-\u001b[39m\u001b[39m>\u001b[39m \u001b[39mNone\u001b[39;00m:\n\u001b[0;32m--> 155\u001b[0m     \u001b[39mself\u001b[39;49m\u001b[39m.\u001b[39;49m_send_message(msg)\n",
      "File \u001b[0;32m~/miniconda3/envs/tf2/lib/python3.9/site-packages/wandb/sdk/lib/sock_client.py:152\u001b[0m, in \u001b[0;36mSockClient._send_message\u001b[0;34m(self, msg)\u001b[0m\n\u001b[1;32m    150\u001b[0m header \u001b[39m=\u001b[39m struct\u001b[39m.\u001b[39mpack(\u001b[39m\"\u001b[39m\u001b[39m<BI\u001b[39m\u001b[39m\"\u001b[39m, \u001b[39mord\u001b[39m(\u001b[39m\"\u001b[39m\u001b[39mW\u001b[39m\u001b[39m\"\u001b[39m), raw_size)\n\u001b[1;32m    151\u001b[0m \u001b[39mwith\u001b[39;00m \u001b[39mself\u001b[39m\u001b[39m.\u001b[39m_lock:\n\u001b[0;32m--> 152\u001b[0m     \u001b[39mself\u001b[39;49m\u001b[39m.\u001b[39;49m_sendall_with_error_handle(header \u001b[39m+\u001b[39;49m data)\n",
      "File \u001b[0;32m~/miniconda3/envs/tf2/lib/python3.9/site-packages/wandb/sdk/lib/sock_client.py:130\u001b[0m, in \u001b[0;36mSockClient._sendall_with_error_handle\u001b[0;34m(self, data)\u001b[0m\n\u001b[1;32m    128\u001b[0m start_time \u001b[39m=\u001b[39m time\u001b[39m.\u001b[39mmonotonic()\n\u001b[1;32m    129\u001b[0m \u001b[39mtry\u001b[39;00m:\n\u001b[0;32m--> 130\u001b[0m     sent \u001b[39m=\u001b[39m \u001b[39mself\u001b[39;49m\u001b[39m.\u001b[39;49m_sock\u001b[39m.\u001b[39;49msend(data)\n\u001b[1;32m    131\u001b[0m     \u001b[39m# sent equal to 0 indicates a closed socket\u001b[39;00m\n\u001b[1;32m    132\u001b[0m     \u001b[39mif\u001b[39;00m sent \u001b[39m==\u001b[39m \u001b[39m0\u001b[39m:\n",
      "\u001b[0;31mBrokenPipeError\u001b[0m: [Errno 32] Broken pipe"
     ]
    },
    {
     "name": "stdout",
     "output_type": "stream",
     "text": [
      " 80/557 [===>..........................] - ETA: 15:40 - loss: 0.0325"
     ]
    }
   ],
   "source": [
    "# main file to manange CAE for PHLUID\n",
    "# @oscars47\n",
    "\n",
    "import os\n",
    "import tensorflow as tf\n",
    "from keras import layers\n",
    "from keras.models import Sequential\n",
    "from keras.optimizers import Adam\n",
    "import wandb\n",
    "from wandb.keras import WandbCallback\n",
    "from caehelper import *\n",
    "\n",
    "# define img dimesions\n",
    "IMG_HEIGHT = 104\n",
    "IMG_WIDTH = 104\n",
    "input_shape = layers.Input(shape=(IMG_HEIGHT, IMG_WIDTH, 3)) # do care about color\n",
    "\n",
    "# load data\n",
    "DATA_DIR= '/media/oscar47/Oscar Extra/Physics data/swarm_data/cae_output'\n",
    "\n",
    "train_ds = np.load(os.path.join(DATA_DIR, 'train_ds.npy'))\n",
    "val_ds = np.load(os.path.join(DATA_DIR, 'val_ds.npy'))\n",
    "\n",
    "# print('num gpus available', tf.config.experimental.list_physical_devices('GPU'))\n",
    "\n",
    "# os.environ['TF_GPU_ALLOCATOR']='cuda_malloc_async'\n",
    "\n",
    "\n",
    "# build autoencoder-------------\n",
    "def build_cae(input_shape, conv2d1_size=32, conv2d2_size=32, conv2d3_size=32, convtrans1_size=32, convtrans2_size=32, convtrans3_size=32, learning_rate=0.01):\n",
    "    # encoder\n",
    "    model = Sequential()\n",
    "    model.add(input_shape)\n",
    "    #model.add(layers.Flatten())\n",
    "    model.add(layers.Conv2D(conv2d1_size, (3, 3), activation='relu', padding='same'))\n",
    "    model.add(layers.MaxPool2D((2,2), padding='same'))\n",
    "    model.add(layers.Conv2D(conv2d2_size, (3,3), activation='relu', padding='same'))\n",
    "    model.add(layers.MaxPool2D((2,2), padding='same'))\n",
    "    model.add(layers.Conv2D(conv2d3_size, (3,3), activation='relu', padding='same'))\n",
    "    model.add(layers.MaxPool2D((2,2), padding='same', name='FV')) # name this layer the FV (feature vector) so we can pull from it later\n",
    "\n",
    "    # decoder\n",
    "    model.add(layers.Conv2DTranspose(convtrans1_size, (3,3), activation='relu', padding='same'))\n",
    "    model.add(layers.UpSampling2D((2,2)))\n",
    "    model.add(layers.Conv2DTranspose(convtrans2_size, (3,3), activation='relu', padding='same'))\n",
    "    model.add(layers.UpSampling2D((2,2)))\n",
    "    model.add(layers.Conv2DTranspose(convtrans3_size, (3,3), activation='relu', padding='same'))\n",
    "    model.add(layers.UpSampling2D((2,2)))\n",
    "    model.add(layers.Conv2D(3, (3,3), padding='same', name='OUT'))\n",
    "\n",
    "    optimizer = Adam(learning_rate = learning_rate)\n",
    "    model.compile(optimizer=optimizer, loss='mse')\n",
    "\n",
    "    model.summary()\n",
    "\n",
    "    return model\n",
    "\n",
    "def train(config=None):\n",
    "    with wandb.init(config=config):\n",
    "    # If called by wandb.agent, as below,\n",
    "    # this config will be set by Sweep Controller\n",
    "      config = wandb.config\n",
    "\n",
    "      #pprint.pprint(config)\n",
    "\n",
    "      #initialize the neural net; \n",
    "      global model\n",
    "      model = build_cae(input_shape, conv2d1_size=config.conv2d1_size, conv2d2_size=config.conv2d2_size, conv2d3_size=config.conv2d3_size, convtrans1_size=config.convtrans1_size, \n",
    "         convtrans2_size=config.convtrans2_size, convtrans3_size=config.convtrans1_size, learning_rate = config.learning_rate)\n",
    "      \n",
    "      #now run training\n",
    "      history = model.fit(\n",
    "        train_ds, train_ds,\n",
    "        batch_size = config.batch_size,\n",
    "        validation_data=(val_ds, val_ds),\n",
    "        shuffle=False,\n",
    "        epochs=config.epochs,\n",
    "        callbacks=[WandbCallback()] #use callbacks to have w&b log stats; will automatically save best model                     \n",
    "      )\n",
    "\n",
    "def train_custom():\n",
    "   global model\n",
    "   model = build_cae(input_shape)\n",
    "      \n",
    "   #now run training\n",
    "   history = model.fit(\n",
    "      train_ds, train_ds,\n",
    "      batch_size = 32,\n",
    "      validation_data=(val_ds, val_ds),\n",
    "      shuffle=False,\n",
    "      epochs=5,                    \n",
    "   )\n",
    "\n",
    "\n",
    "# set dictionary with random search; optimizing val_loss--------------------------\n",
    "sweep_config= {\n",
    "    'method': 'random',\n",
    "    'name': 'val_accuracy',\n",
    "    'goal': 'maximize'\n",
    "}\n",
    "\n",
    "sweep_config['metric']= 'val_accuracy'\n",
    "\n",
    "parameters_dict = {\n",
    "    'epochs': {\n",
    "       'distribution': 'int_uniform',\n",
    "       'min': 15,\n",
    "       'max': 20\n",
    "    },\n",
    "    # for build_dataset\n",
    "     'batch_size': {\n",
    "       'values': [x for x in range(32, 161, 32)]\n",
    "    },\n",
    "    'conv2d1_size': {\n",
    "       'distribution': 'int_uniform',\n",
    "       'min': 64,\n",
    "       'max': 256\n",
    "    },\n",
    "    'conv2d2_size': {\n",
    "       'distribution': 'int_uniform',\n",
    "       'min': 64,\n",
    "       'max': 256\n",
    "    },'conv2d3_size': {\n",
    "       'distribution': 'int_uniform',\n",
    "       'min': 64,\n",
    "       'max': 256\n",
    "    },'convtrans1_size': {\n",
    "       'distribution': 'int_uniform',\n",
    "       'min': 64,\n",
    "       'max': 256\n",
    "    },'convtrans2_size': {\n",
    "       'distribution': 'int_uniform',\n",
    "       'min': 64,\n",
    "       'max': 256\n",
    "    },\n",
    "    'convtrans3_size': {\n",
    "       'distribution': 'int_uniform',\n",
    "       'min': 64,\n",
    "       'max': 256\n",
    "    },\n",
    "    'learning_rate':{\n",
    "         #uniform distribution between 0 and 1\n",
    "         'distribution': 'uniform', \n",
    "         'min': 0,\n",
    "         'max': 0.1\n",
    "     }\n",
    "}\n",
    "\n",
    "# append parameters to sweep config\n",
    "sweep_config['parameters'] = parameters_dict \n",
    "\n",
    "# login to wandb----------------\n",
    "wandb.init(project=\"PHLUID-SwarmCAE2\", entity=\"oscarscholin\")\n",
    "\n",
    "# initialize sweep agent\n",
    "sweep_id = wandb.sweep(sweep_config, project='PHLUID-SwarmCAE2', entity=\"oscarscholin\")\n",
    "wandb.agent(sweep_id, train, count=20)\n",
    "\n",
    "#train_custom()\n"
   ]
  },
  {
   "cell_type": "code",
   "execution_count": null,
   "metadata": {},
   "outputs": [],
   "source": []
  }
 ],
 "metadata": {
  "kernelspec": {
   "display_name": "tf2",
   "language": "python",
   "name": "python3"
  },
  "language_info": {
   "codemirror_mode": {
    "name": "ipython",
    "version": 3
   },
   "file_extension": ".py",
   "mimetype": "text/x-python",
   "name": "python",
   "nbconvert_exporter": "python",
   "pygments_lexer": "ipython3",
   "version": "3.9.15 (main, Nov 24 2022, 14:31:59) \n[GCC 11.2.0]"
  },
  "orig_nbformat": 4,
  "vscode": {
   "interpreter": {
    "hash": "32b759fc3d27792511cf5e8ac0c38579d17ddfe59f0c28900c59cf08d1bce55a"
   }
  }
 },
 "nbformat": 4,
 "nbformat_minor": 2
}
